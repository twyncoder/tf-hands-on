{
  "cells": [
    {
      "cell_type": "markdown",
      "metadata": {},
      "source": [
        "<table align=\"left\">\n",
        "  <td>\n",
        "    <a href=\"https://colab.research.google.com/github/twyncoder/tf-hands-on/blob/master/L05_Pretrained_clasificacion.ipynb\" target=\"_parent\"><img src=\"https://colab.research.google.com/assets/colab-badge.svg\" alt=\"Open In Colab\"/></a>\n",
        "  </td>\n",
        "</table>"
      ]
    },
    {
      "cell_type": "markdown",
      "metadata": {},
      "source": [
        "<center><a href=\"https://centroia.uva.es/\"> <img src=\"logo-UVAIA-original.png\" alt=\"Header\" style=\"width: 300px;\"/> </a></center>"
      ]
    },
    {
      "cell_type": "markdown",
      "metadata": {},
      "source": [
        "# Redes de Aprendizaje Profundo básicas con Keras y Tensorflow.\n",
        "## *Utilización de redes pre-entrenadas*"
      ]
    },
    {
      "cell_type": "markdown",
      "metadata": {},
      "source": [
        "# 0. Preparación del entorno y comprobación de requisitos"
      ]
    },
    {
      "cell_type": "code",
      "execution_count": null,
      "metadata": {},
      "outputs": [],
      "source": [
        "# Common imports\n",
        "import os\n",
        "import pandas as pd\n",
        "import numpy as np\n",
        "import sklearn\n",
        "import tensorflow as tf\n",
        "from tensorflow import keras\n",
        "\n",
        "# Confusion matrix\n",
        "from sklearn.metrics import confusion_matrix, ConfusionMatrixDisplay\n",
        "from sklearn.model_selection import train_test_split\n",
        "\n",
        "# To plot pretty figures\n",
        "%matplotlib inline\n",
        "import matplotlib as mpl\n",
        "import matplotlib.pyplot as plt\n",
        "mpl.rc('axes', labelsize=14)\n",
        "mpl.rc('xtick', labelsize=12)\n",
        "mpl.rc('ytick', labelsize=12)\n",
        "\n",
        "# Where to save the figures\n",
        "PROJECT_ROOT_DIR = \".\"\n",
        "IMAGES_PATH = os.path.join(PROJECT_ROOT_DIR, \"images\")\n",
        "os.makedirs(IMAGES_PATH, exist_ok=True)\n",
        "\n",
        "def save_fig(fig_name, tight_layout=True, fig_extension=\"png\", resolution=300):\n",
        "    path = os.path.join(IMAGES_PATH, fig_name + \".\" + fig_extension)\n",
        "    print(\"Saving figure\", fig_name)\n",
        "    if tight_layout:\n",
        "        plt.tight_layout()\n",
        "    plt.savefig(path, format=fig_extension, dpi=resolution)\n",
        "\n",
        "def print_history(history,title=None, extension='png'):\n",
        "    pd.DataFrame(history.history).plot(figsize=(8, 5))\n",
        "    plt.grid(True)\n",
        "    #plt.gca().set_ylim(0, 1)\n",
        "    plt.xlabel(\"epochs\")\n",
        "    if(title!=None):\n",
        "        plt.title(title)\n",
        "        save_fig(title,fig_extension=extension)"
      ]
    },
    {
      "cell_type": "code",
      "execution_count": null,
      "metadata": {},
      "outputs": [],
      "source": [
        "import requests\n",
        "from PIL import Image\n",
        "from io import BytesIO"
      ]
    },
    {
      "cell_type": "markdown",
      "metadata": {},
      "source": [
        "### Información de versiones"
      ]
    },
    {
      "cell_type": "code",
      "execution_count": null,
      "metadata": {},
      "outputs": [],
      "source": [
        "print(tf.__version__)"
      ]
    },
    {
      "cell_type": "markdown",
      "metadata": {},
      "source": [
        "### Comprobar si disponemos de una GPU"
      ]
    },
    {
      "cell_type": "code",
      "execution_count": null,
      "metadata": {},
      "outputs": [],
      "source": [
        "tf.config.list_physical_devices('GPU')"
      ]
    },
    {
      "cell_type": "markdown",
      "metadata": {
        "id": "-cNsoSkYEiAh"
      },
      "source": [
        "# 1. Cargar modelo existente y pesos resultado de un pre-entrenamiento"
      ]
    },
    {
      "cell_type": "markdown",
      "metadata": {},
      "source": [
        "### Importar en keras las funciones adecuadas para trabajar con el modelo"
      ]
    },
    {
      "cell_type": "code",
      "execution_count": null,
      "metadata": {},
      "outputs": [],
      "source": [
        "from tensorflow.keras.applications.vgg16 import VGG16, preprocess_input, decode_predictions\n",
        "from tensorflow.keras.preprocessing import image"
      ]
    },
    {
      "cell_type": "code",
      "execution_count": null,
      "metadata": {
        "id": "62b_5Q-QEgYG"
      },
      "outputs": [],
      "source": [
        "model = keras.applications.VGG16(\n",
        "    weights='imagenet',\n",
        "    input_shape=(224, 224, 3))\n",
        "model.summary()"
      ]
    },
    {
      "cell_type": "markdown",
      "metadata": {
        "id": "37QMzfZZEmv0"
      },
      "source": [
        "# 2. Utilizar el modelo para realizar predicciones"
      ]
    },
    {
      "cell_type": "markdown",
      "metadata": {},
      "source": [
        "### Cargar una imagen desde una URL"
      ]
    },
    {
      "cell_type": "code",
      "execution_count": null,
      "metadata": {
        "id": "i74BGdJX_i98"
      },
      "outputs": [],
      "source": [
        "# Función para cargar una imagen desde una URL\n",
        "def load_image_from_url(url):\n",
        "    response = requests.get(url)\n",
        "    img = Image.open(BytesIO(response.content))\n",
        "    return img\n",
        "\n",
        "# Función para preprocesar la imagen\n",
        "def preprocess_image(img):\n",
        "    img = img.resize((224, 224))\n",
        "    img_array = image.img_to_array(img)\n",
        "    img_array = np.expand_dims(img_array, axis=0)\n",
        "    img_array = preprocess_input(img_array)\n",
        "    return img_array"
      ]
    },
    {
      "cell_type": "code",
      "execution_count": null,
      "metadata": {
        "id": "UykCZU3uDvcL"
      },
      "outputs": [],
      "source": [
        "# URL de la imagen a predecir\n",
        "url = 'https://www.motor.mapfre.es/media/2018/05/cual_es_el_mejor_coche_del_ano_2018.jpg'"
      ]
    },
    {
      "cell_type": "markdown",
      "metadata": {
        "id": "oggTZ0USFFUm"
      },
      "source": [
        "### Lo que vemos nosotros...."
      ]
    },
    {
      "cell_type": "code",
      "execution_count": null,
      "metadata": {
        "colab": {
          "base_uri": "https://localhost:8080/",
          "height": 220
        },
        "id": "XEeBNq_Z_WGh",
        "outputId": "4b088272-9538-4ad3-a852-3baf35b15ee7"
      },
      "outputs": [],
      "source": [
        "# Cargar y preprocesar la imagen\n",
        "img = load_image_from_url(url)\n",
        "plt.imshow(img)\n",
        "preprocessed_img = preprocess_image(img)"
      ]
    },
    {
      "cell_type": "markdown",
      "metadata": {
        "id": "_19XqEY_FJ2H"
      },
      "source": [
        "### Lo que ve la red....\n",
        "**¡AHORA TÚ!**\n",
        "Date cuenta de que es necesario preprocesar la imagen que vamos a predecir para que sufra las transformaciones que se aplicaron a las imágenes de entrenamiento.\n",
        "- ¿Qué transformaciones sufre la imagen con el método `preprocess_img()`? ¿Por qué es necesario? \n",
        "- Piensa no solamente en tamaños, también valores de entrada a la red, orden de los canales en las imágenes (RGB vs BGR)...\n"
      ]
    },
    {
      "cell_type": "code",
      "execution_count": null,
      "metadata": {
        "colab": {
          "base_uri": "https://localhost:8080/",
          "height": 460
        },
        "id": "CO2p1rquE2eo",
        "outputId": "d280e590-1520-4213-c003-91c0c384f8f7"
      },
      "outputs": [],
      "source": [
        "plt.imshow(np.reshape(preprocessed_img,[224,224,3]))\n",
        "plt.axis('off')"
      ]
    },
    {
      "cell_type": "code",
      "execution_count": null,
      "metadata": {
        "colab": {
          "base_uri": "https://localhost:8080/"
        },
        "id": "dQ57blgkDzPj",
        "outputId": "8be3948f-36d9-43c6-d55e-0bd19969c27d"
      },
      "outputs": [],
      "source": [
        "# Hacer una predicción\n",
        "predictions = model.predict(preprocessed_img)\n",
        "\n",
        "# Decodificar y mostrar las predicciones\n",
        "decoded_predictions = decode_predictions(predictions, top=3)[0]\n",
        "for i, (imagenet_id, label, score) in enumerate(decoded_predictions):\n",
        "    print(f\"{i + 1}: {label} ({score:.2f})\")"
      ]
    },
    {
      "cell_type": "markdown",
      "metadata": {},
      "source": [
        "# 3. Utiliza lo aprendido"
      ]
    },
    {
      "cell_type": "markdown",
      "metadata": {},
      "source": [
        "**¡AHORA TÚ!**\n",
        "Prueba ahora:\n",
        "- A clasificar otras imágenes con el modelo anterior\n"
      ]
    },
    {
      "cell_type": "code",
      "execution_count": null,
      "metadata": {},
      "outputs": [],
      "source": [
        "# TODO"
      ]
    },
    {
      "cell_type": "markdown",
      "metadata": {},
      "source": [
        "**¡AHORA TÚ!**\n",
        "Prueba ahora:\n",
        "- A probar otros modelos pre-entrenados disponibles en Keras: https://keras.io/api/applications/\n",
        "- Recuerda importar las funciones adecuadas para el tratamiento de cada modelo: `preprocess_image()`.\n",
        "- Puedes averiguar la diferencia en número de parámetros de unos modelos frente a otros."
      ]
    },
    {
      "cell_type": "code",
      "execution_count": 23,
      "metadata": {},
      "outputs": [],
      "source": [
        "# TODO"
      ]
    }
  ],
  "metadata": {
    "accelerator": "GPU",
    "colab": {
      "gpuType": "T4",
      "provenance": []
    },
    "kernelspec": {
      "display_name": "Python 3",
      "name": "python3"
    },
    "language_info": {
      "codemirror_mode": {
        "name": "ipython",
        "version": 3
      },
      "file_extension": ".py",
      "mimetype": "text/x-python",
      "name": "python",
      "nbconvert_exporter": "python",
      "pygments_lexer": "ipython3",
      "version": "3.10.14"
    }
  },
  "nbformat": 4,
  "nbformat_minor": 0
}
