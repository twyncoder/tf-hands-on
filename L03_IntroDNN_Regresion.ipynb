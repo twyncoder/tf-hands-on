{
 "cells": [
  {
   "cell_type": "markdown",
   "metadata": {
    "id": "FhGuhbZ6M5tl"
   },
   "source": [
    "##### Copyright 2018 The TensorFlow Authors."
   ]
  },
  {
   "cell_type": "code",
   "execution_count": 1,
   "metadata": {
    "cellView": "form",
    "execution": {
     "iopub.execute_input": "2024-03-19T01:57:43.687955Z",
     "iopub.status.busy": "2024-03-19T01:57:43.687372Z",
     "iopub.status.idle": "2024-03-19T01:57:43.691163Z",
     "shell.execute_reply": "2024-03-19T01:57:43.690610Z"
    },
    "id": "AwOEIRJC6Une"
   },
   "outputs": [],
   "source": [
    "#@title Licensed under the Apache License, Version 2.0 (the \"License\");\n",
    "# you may not use this file except in compliance with the License.\n",
    "# You may obtain a copy of the License at\n",
    "#\n",
    "# https://www.apache.org/licenses/LICENSE-2.0\n",
    "#\n",
    "# Unless required by applicable law or agreed to in writing, software\n",
    "# distributed under the License is distributed on an \"AS IS\" BASIS,\n",
    "# WITHOUT WARRANTIES OR CONDITIONS OF ANY KIND, either express or implied.\n",
    "# See the License for the specific language governing permissions and\n",
    "# limitations under the License."
   ]
  },
  {
   "cell_type": "code",
   "execution_count": 2,
   "metadata": {
    "cellView": "form",
    "execution": {
     "iopub.execute_input": "2024-03-19T01:57:43.694221Z",
     "iopub.status.busy": "2024-03-19T01:57:43.693792Z",
     "iopub.status.idle": "2024-03-19T01:57:43.697179Z",
     "shell.execute_reply": "2024-03-19T01:57:43.696641Z"
    },
    "id": "KyPEtTqk6VdG"
   },
   "outputs": [],
   "source": [
    "#@title MIT License\n",
    "#\n",
    "# Copyright (c) 2017 François Chollet\n",
    "#\n",
    "# Permission is hereby granted, free of charge, to any person obtaining a\n",
    "# copy of this software and associated documentation files (the \"Software\"),\n",
    "# to deal in the Software without restriction, including without limitation\n",
    "# the rights to use, copy, modify, merge, publish, distribute, sublicense,\n",
    "# and/or sell copies of the Software, and to permit persons to whom the\n",
    "# Software is furnished to do so, subject to the following conditions:\n",
    "#\n",
    "# The above copyright notice and this permission notice shall be included in\n",
    "# all copies or substantial portions of the Software.\n",
    "#\n",
    "# THE SOFTWARE IS PROVIDED \"AS IS\", WITHOUT WARRANTY OF ANY KIND, EXPRESS OR\n",
    "# IMPLIED, INCLUDING BUT NOT LIMITED TO THE WARRANTIES OF MERCHANTABILITY,\n",
    "# FITNESS FOR A PARTICULAR PURPOSE AND NONINFRINGEMENT. IN NO EVENT SHALL\n",
    "# THE AUTHORS OR COPYRIGHT HOLDERS BE LIABLE FOR ANY CLAIM, DAMAGES OR OTHER\n",
    "# LIABILITY, WHETHER IN AN ACTION OF CONTRACT, TORT OR OTHERWISE, ARISING\n",
    "# FROM, OUT OF OR IN CONNECTION WITH THE SOFTWARE OR THE USE OR OTHER\n",
    "# DEALINGS IN THE SOFTWARE."
   ]
  },
  {
   "cell_type": "markdown",
   "metadata": {
    "id": "EIdT9iu_Z4Rb"
   },
   "source": [
    "# Basic regression: Predict fuel efficiency"
   ]
  },
  {
   "cell_type": "markdown",
   "metadata": {
    "id": "bBIlTPscrIT9"
   },
   "source": [
    "<table class=\"tfo-notebook-buttons\" align=\"left\">\n",
    "  <td>\n",
    "    <a target=\"_blank\" href=\"https://www.tensorflow.org/tutorials/keras/regression\"><img src=\"https://www.tensorflow.org/images/tf_logo_32px.png\" />View on TensorFlow.org</a>\n",
    "  </td>\n",
    "  <td>\n",
    "    <a target=\"_blank\" href=\"https://colab.research.google.com/github/tensorflow/docs/blob/master/site/en/tutorials/keras/regression.ipynb\"><img src=\"https://www.tensorflow.org/images/colab_logo_32px.png\" />Run in Google Colab</a>\n",
    "  </td>\n",
    "  <td>\n",
    "    <a target=\"_blank\" href=\"https://github.com/tensorflow/docs/blob/master/site/en/tutorials/keras/regression.ipynb\"><img src=\"https://www.tensorflow.org/images/GitHub-Mark-32px.png\" />View source on GitHub</a>\n",
    "  </td>\n",
    "  <td>\n",
    "    <a href=\"https://storage.googleapis.com/tensorflow_docs/docs/site/en/tutorials/keras/regression.ipynb\"><img src=\"https://www.tensorflow.org/images/download_logo_32px.png\" />Download notebook</a>\n",
    "  </td>\n",
    "</table>"
   ]
  },
  {
   "cell_type": "markdown",
   "metadata": {
    "id": "AHp3M9ZmrIxj"
   },
   "source": [
    "In a *regression* problem, the aim is to predict the output of a continuous value, like a price or a probability. Contrast this with a *classification* problem, where the aim is to select a class from a list of classes (for example, where a picture contains an apple or an orange, recognizing which fruit is in the picture).\n",
    "\n",
    "This tutorial uses the classic [Auto MPG](https://archive.ics.uci.edu/ml/datasets/auto+mpg) dataset and demonstrates how to build models to predict the fuel efficiency of the late-1970s and early 1980s automobiles. To do this, you will provide the models with a description of many automobiles from that time period. This description includes attributes like cylinders, displacement, horsepower, and weight.\n",
    "\n",
    "This example uses the Keras API. (Visit the Keras [tutorials](https://www.tensorflow.org/tutorials/keras) and [guides](https://www.tensorflow.org/guide/keras) to learn more.)"
   ]
  },
  {
   "cell_type": "code",
   "execution_count": 1,
   "metadata": {
    "execution": {
     "iopub.execute_input": "2024-03-19T01:57:43.700531Z",
     "iopub.status.busy": "2024-03-19T01:57:43.699965Z",
     "iopub.status.idle": "2024-03-19T01:57:45.653333Z",
     "shell.execute_reply": "2024-03-19T01:57:45.652391Z"
    },
    "id": "moB4tpEHxKB3"
   },
   "outputs": [],
   "source": [
    "# Use seaborn for pairplot.\n",
    "!pip install -q seaborn"
   ]
  },
  {
   "cell_type": "code",
   "execution_count": 2,
   "metadata": {
    "execution": {
     "iopub.execute_input": "2024-03-19T01:57:45.658295Z",
     "iopub.status.busy": "2024-03-19T01:57:45.657696Z",
     "iopub.status.idle": "2024-03-19T01:57:46.800119Z",
     "shell.execute_reply": "2024-03-19T01:57:46.799268Z"
    },
    "id": "1rRo8oNqZ-Rj"
   },
   "outputs": [],
   "source": [
    "import matplotlib.pyplot as plt\n",
    "import numpy as np\n",
    "import pandas as pd\n",
    "import seaborn as sns\n",
    "\n",
    "# Make NumPy printouts easier to read.\n",
    "np.set_printoptions(precision=3, suppress=True)"
   ]
  },
  {
   "cell_type": "code",
   "execution_count": 3,
   "metadata": {
    "execution": {
     "iopub.execute_input": "2024-03-19T01:57:46.804703Z",
     "iopub.status.busy": "2024-03-19T01:57:46.804045Z",
     "iopub.status.idle": "2024-03-19T01:57:48.813807Z",
     "shell.execute_reply": "2024-03-19T01:57:48.813106Z"
    },
    "id": "9xQKvCJ85kCQ"
   },
   "outputs": [
    {
     "name": "stderr",
     "output_type": "stream",
     "text": [
      "2024-06-10 23:15:50.088369: I tensorflow/core/util/port.cc:113] oneDNN custom operations are on. You may see slightly different numerical results due to floating-point round-off errors from different computation orders. To turn them off, set the environment variable `TF_ENABLE_ONEDNN_OPTS=0`.\n",
      "2024-06-10 23:15:50.113796: E external/local_xla/xla/stream_executor/cuda/cuda_dnn.cc:9261] Unable to register cuDNN factory: Attempting to register factory for plugin cuDNN when one has already been registered\n",
      "2024-06-10 23:15:50.113822: E external/local_xla/xla/stream_executor/cuda/cuda_fft.cc:607] Unable to register cuFFT factory: Attempting to register factory for plugin cuFFT when one has already been registered\n",
      "2024-06-10 23:15:50.114481: E external/local_xla/xla/stream_executor/cuda/cuda_blas.cc:1515] Unable to register cuBLAS factory: Attempting to register factory for plugin cuBLAS when one has already been registered\n",
      "2024-06-10 23:15:50.120255: I tensorflow/core/platform/cpu_feature_guard.cc:182] This TensorFlow binary is optimized to use available CPU instructions in performance-critical operations.\n",
      "To enable the following instructions: AVX2 AVX_VNNI FMA, in other operations, rebuild TensorFlow with the appropriate compiler flags.\n",
      "2024-06-10 23:15:50.738759: W tensorflow/compiler/tf2tensorrt/utils/py_utils.cc:38] TF-TRT Warning: Could not find TensorRT\n"
     ]
    },
    {
     "name": "stdout",
     "output_type": "stream",
     "text": [
      "2.15.0\n"
     ]
    }
   ],
   "source": [
    "import tensorflow as tf\n",
    "\n",
    "from tensorflow import keras\n",
    "from tensorflow.keras import layers\n",
    "\n",
    "print(tf.__version__)"
   ]
  },
  {
   "cell_type": "markdown",
   "metadata": {
    "id": "F_72b0LCNbjx"
   },
   "source": [
    "## The Auto MPG dataset\n",
    "\n",
    "The dataset is available from the [UCI Machine Learning Repository](https://archive.ics.uci.edu/ml/).\n"
   ]
  },
  {
   "cell_type": "markdown",
   "metadata": {
    "id": "gFh9ne3FZ-On"
   },
   "source": [
    "### Get the data\n",
    "First download and import the dataset using pandas:"
   ]
  },
  {
   "cell_type": "code",
   "execution_count": 4,
   "metadata": {
    "execution": {
     "iopub.execute_input": "2024-03-19T01:57:48.853943Z",
     "iopub.status.busy": "2024-03-19T01:57:48.853220Z",
     "iopub.status.idle": "2024-03-19T01:57:49.149972Z",
     "shell.execute_reply": "2024-03-19T01:57:49.149308Z"
    },
    "id": "CiX2FI4gZtTt"
   },
   "outputs": [],
   "source": [
    "url = 'http://archive.ics.uci.edu/ml/machine-learning-databases/auto-mpg/auto-mpg.data'\n",
    "column_names = ['MPG', 'Cylinders', 'Displacement', 'Horsepower', 'Weight',\n",
    "                'Acceleration', 'Model Year', 'Origin']\n",
    "\n",
    "raw_dataset = pd.read_csv(url, names=column_names,\n",
    "                          na_values='?', comment='\\t',\n",
    "                          sep=' ', skipinitialspace=True)"
   ]
  },
  {
   "cell_type": "code",
   "execution_count": 5,
   "metadata": {
    "execution": {
     "iopub.execute_input": "2024-03-19T01:57:49.153483Z",
     "iopub.status.busy": "2024-03-19T01:57:49.153234Z",
     "iopub.status.idle": "2024-03-19T01:57:49.168734Z",
     "shell.execute_reply": "2024-03-19T01:57:49.168113Z"
    },
    "id": "2oY3pMPagJrO"
   },
   "outputs": [
    {
     "data": {
      "text/html": [
       "<div>\n",
       "<style scoped>\n",
       "    .dataframe tbody tr th:only-of-type {\n",
       "        vertical-align: middle;\n",
       "    }\n",
       "\n",
       "    .dataframe tbody tr th {\n",
       "        vertical-align: top;\n",
       "    }\n",
       "\n",
       "    .dataframe thead th {\n",
       "        text-align: right;\n",
       "    }\n",
       "</style>\n",
       "<table border=\"1\" class=\"dataframe\">\n",
       "  <thead>\n",
       "    <tr style=\"text-align: right;\">\n",
       "      <th></th>\n",
       "      <th>MPG</th>\n",
       "      <th>Cylinders</th>\n",
       "      <th>Displacement</th>\n",
       "      <th>Horsepower</th>\n",
       "      <th>Weight</th>\n",
       "      <th>Acceleration</th>\n",
       "      <th>Model Year</th>\n",
       "      <th>Origin</th>\n",
       "    </tr>\n",
       "  </thead>\n",
       "  <tbody>\n",
       "    <tr>\n",
       "      <th>393</th>\n",
       "      <td>27.0</td>\n",
       "      <td>4</td>\n",
       "      <td>140.0</td>\n",
       "      <td>86.0</td>\n",
       "      <td>2790.0</td>\n",
       "      <td>15.6</td>\n",
       "      <td>82</td>\n",
       "      <td>1</td>\n",
       "    </tr>\n",
       "    <tr>\n",
       "      <th>394</th>\n",
       "      <td>44.0</td>\n",
       "      <td>4</td>\n",
       "      <td>97.0</td>\n",
       "      <td>52.0</td>\n",
       "      <td>2130.0</td>\n",
       "      <td>24.6</td>\n",
       "      <td>82</td>\n",
       "      <td>2</td>\n",
       "    </tr>\n",
       "    <tr>\n",
       "      <th>395</th>\n",
       "      <td>32.0</td>\n",
       "      <td>4</td>\n",
       "      <td>135.0</td>\n",
       "      <td>84.0</td>\n",
       "      <td>2295.0</td>\n",
       "      <td>11.6</td>\n",
       "      <td>82</td>\n",
       "      <td>1</td>\n",
       "    </tr>\n",
       "    <tr>\n",
       "      <th>396</th>\n",
       "      <td>28.0</td>\n",
       "      <td>4</td>\n",
       "      <td>120.0</td>\n",
       "      <td>79.0</td>\n",
       "      <td>2625.0</td>\n",
       "      <td>18.6</td>\n",
       "      <td>82</td>\n",
       "      <td>1</td>\n",
       "    </tr>\n",
       "    <tr>\n",
       "      <th>397</th>\n",
       "      <td>31.0</td>\n",
       "      <td>4</td>\n",
       "      <td>119.0</td>\n",
       "      <td>82.0</td>\n",
       "      <td>2720.0</td>\n",
       "      <td>19.4</td>\n",
       "      <td>82</td>\n",
       "      <td>1</td>\n",
       "    </tr>\n",
       "  </tbody>\n",
       "</table>\n",
       "</div>"
      ],
      "text/plain": [
       "      MPG  Cylinders  Displacement  Horsepower  Weight  Acceleration  \\\n",
       "393  27.0          4         140.0        86.0  2790.0          15.6   \n",
       "394  44.0          4          97.0        52.0  2130.0          24.6   \n",
       "395  32.0          4         135.0        84.0  2295.0          11.6   \n",
       "396  28.0          4         120.0        79.0  2625.0          18.6   \n",
       "397  31.0          4         119.0        82.0  2720.0          19.4   \n",
       "\n",
       "     Model Year  Origin  \n",
       "393          82       1  \n",
       "394          82       2  \n",
       "395          82       1  \n",
       "396          82       1  \n",
       "397          82       1  "
      ]
     },
     "execution_count": 5,
     "metadata": {},
     "output_type": "execute_result"
    }
   ],
   "source": [
    "dataset = raw_dataset.copy()\n",
    "dataset.tail()"
   ]
  },
  {
   "cell_type": "markdown",
   "metadata": {
    "id": "3MWuJTKEDM-f"
   },
   "source": [
    "### Clean the data\n",
    "\n",
    "The dataset contains a few unknown values:"
   ]
  },
  {
   "cell_type": "code",
   "execution_count": 6,
   "metadata": {
    "execution": {
     "iopub.execute_input": "2024-03-19T01:57:49.172018Z",
     "iopub.status.busy": "2024-03-19T01:57:49.171426Z",
     "iopub.status.idle": "2024-03-19T01:57:49.177116Z",
     "shell.execute_reply": "2024-03-19T01:57:49.176421Z"
    },
    "id": "JEJHhN65a2VV"
   },
   "outputs": [
    {
     "data": {
      "text/plain": [
       "MPG             0\n",
       "Cylinders       0\n",
       "Displacement    0\n",
       "Horsepower      6\n",
       "Weight          0\n",
       "Acceleration    0\n",
       "Model Year      0\n",
       "Origin          0\n",
       "dtype: int64"
      ]
     },
     "execution_count": 6,
     "metadata": {},
     "output_type": "execute_result"
    }
   ],
   "source": [
    "dataset.isna().sum()"
   ]
  },
  {
   "cell_type": "markdown",
   "metadata": {
    "id": "9UPN0KBHa_WI"
   },
   "source": [
    "Drop those rows to keep this initial tutorial simple:"
   ]
  },
  {
   "cell_type": "code",
   "execution_count": 7,
   "metadata": {
    "execution": {
     "iopub.execute_input": "2024-03-19T01:57:49.180125Z",
     "iopub.status.busy": "2024-03-19T01:57:49.179756Z",
     "iopub.status.idle": "2024-03-19T01:57:49.183509Z",
     "shell.execute_reply": "2024-03-19T01:57:49.182955Z"
    },
    "id": "4ZUDosChC1UN"
   },
   "outputs": [],
   "source": [
    "dataset = dataset.dropna()"
   ]
  },
  {
   "cell_type": "markdown",
   "metadata": {
    "id": "8XKitwaH4v8h"
   },
   "source": [
    "The `\"Origin\"` column is categorical, not numeric. So the next step is to one-hot encode the values in the column with [pd.get_dummies](https://pandas.pydata.org/docs/reference/api/pandas.get_dummies.html).\n",
    "\n",
    "Note: You can set up the `tf.keras.Model` to do this kind of transformation for you but that's beyond the scope of this tutorial. Check out the [Classify structured data using Keras preprocessing layers](../structured_data/preprocessing_layers.ipynb) or [Load CSV data](../load_data/csv.ipynb) tutorials for examples."
   ]
  },
  {
   "cell_type": "code",
   "execution_count": 8,
   "metadata": {
    "execution": {
     "iopub.execute_input": "2024-03-19T01:57:49.186810Z",
     "iopub.status.busy": "2024-03-19T01:57:49.186240Z",
     "iopub.status.idle": "2024-03-19T01:57:49.190340Z",
     "shell.execute_reply": "2024-03-19T01:57:49.189780Z"
    },
    "id": "gWNTD2QjBWFJ"
   },
   "outputs": [],
   "source": [
    "dataset['Origin'] = dataset['Origin'].map({1: 'USA', 2: 'Europe', 3: 'Japan'})"
   ]
  },
  {
   "cell_type": "code",
   "execution_count": 9,
   "metadata": {
    "execution": {
     "iopub.execute_input": "2024-03-19T01:57:49.193378Z",
     "iopub.status.busy": "2024-03-19T01:57:49.192856Z",
     "iopub.status.idle": "2024-03-19T01:57:49.205530Z",
     "shell.execute_reply": "2024-03-19T01:57:49.204954Z"
    },
    "id": "ulXz4J7PAUzk"
   },
   "outputs": [
    {
     "data": {
      "text/html": [
       "<div>\n",
       "<style scoped>\n",
       "    .dataframe tbody tr th:only-of-type {\n",
       "        vertical-align: middle;\n",
       "    }\n",
       "\n",
       "    .dataframe tbody tr th {\n",
       "        vertical-align: top;\n",
       "    }\n",
       "\n",
       "    .dataframe thead th {\n",
       "        text-align: right;\n",
       "    }\n",
       "</style>\n",
       "<table border=\"1\" class=\"dataframe\">\n",
       "  <thead>\n",
       "    <tr style=\"text-align: right;\">\n",
       "      <th></th>\n",
       "      <th>MPG</th>\n",
       "      <th>Cylinders</th>\n",
       "      <th>Displacement</th>\n",
       "      <th>Horsepower</th>\n",
       "      <th>Weight</th>\n",
       "      <th>Acceleration</th>\n",
       "      <th>Model Year</th>\n",
       "      <th>Europe</th>\n",
       "      <th>Japan</th>\n",
       "      <th>USA</th>\n",
       "    </tr>\n",
       "  </thead>\n",
       "  <tbody>\n",
       "    <tr>\n",
       "      <th>393</th>\n",
       "      <td>27.0</td>\n",
       "      <td>4</td>\n",
       "      <td>140.0</td>\n",
       "      <td>86.0</td>\n",
       "      <td>2790.0</td>\n",
       "      <td>15.6</td>\n",
       "      <td>82</td>\n",
       "      <td>False</td>\n",
       "      <td>False</td>\n",
       "      <td>True</td>\n",
       "    </tr>\n",
       "    <tr>\n",
       "      <th>394</th>\n",
       "      <td>44.0</td>\n",
       "      <td>4</td>\n",
       "      <td>97.0</td>\n",
       "      <td>52.0</td>\n",
       "      <td>2130.0</td>\n",
       "      <td>24.6</td>\n",
       "      <td>82</td>\n",
       "      <td>True</td>\n",
       "      <td>False</td>\n",
       "      <td>False</td>\n",
       "    </tr>\n",
       "    <tr>\n",
       "      <th>395</th>\n",
       "      <td>32.0</td>\n",
       "      <td>4</td>\n",
       "      <td>135.0</td>\n",
       "      <td>84.0</td>\n",
       "      <td>2295.0</td>\n",
       "      <td>11.6</td>\n",
       "      <td>82</td>\n",
       "      <td>False</td>\n",
       "      <td>False</td>\n",
       "      <td>True</td>\n",
       "    </tr>\n",
       "    <tr>\n",
       "      <th>396</th>\n",
       "      <td>28.0</td>\n",
       "      <td>4</td>\n",
       "      <td>120.0</td>\n",
       "      <td>79.0</td>\n",
       "      <td>2625.0</td>\n",
       "      <td>18.6</td>\n",
       "      <td>82</td>\n",
       "      <td>False</td>\n",
       "      <td>False</td>\n",
       "      <td>True</td>\n",
       "    </tr>\n",
       "    <tr>\n",
       "      <th>397</th>\n",
       "      <td>31.0</td>\n",
       "      <td>4</td>\n",
       "      <td>119.0</td>\n",
       "      <td>82.0</td>\n",
       "      <td>2720.0</td>\n",
       "      <td>19.4</td>\n",
       "      <td>82</td>\n",
       "      <td>False</td>\n",
       "      <td>False</td>\n",
       "      <td>True</td>\n",
       "    </tr>\n",
       "  </tbody>\n",
       "</table>\n",
       "</div>"
      ],
      "text/plain": [
       "      MPG  Cylinders  Displacement  Horsepower  Weight  Acceleration  \\\n",
       "393  27.0          4         140.0        86.0  2790.0          15.6   \n",
       "394  44.0          4          97.0        52.0  2130.0          24.6   \n",
       "395  32.0          4         135.0        84.0  2295.0          11.6   \n",
       "396  28.0          4         120.0        79.0  2625.0          18.6   \n",
       "397  31.0          4         119.0        82.0  2720.0          19.4   \n",
       "\n",
       "     Model Year  Europe  Japan    USA  \n",
       "393          82   False  False   True  \n",
       "394          82    True  False  False  \n",
       "395          82   False  False   True  \n",
       "396          82   False  False   True  \n",
       "397          82   False  False   True  "
      ]
     },
     "execution_count": 9,
     "metadata": {},
     "output_type": "execute_result"
    }
   ],
   "source": [
    "dataset = pd.get_dummies(dataset, columns=['Origin'], prefix='', prefix_sep='')\n",
    "dataset.tail()"
   ]
  },
  {
   "cell_type": "markdown",
   "metadata": {
    "id": "Cuym4yvk76vU"
   },
   "source": [
    "### Split the data into training and test sets\n",
    "\n",
    "Now, split the dataset into a training set and a test set. You will use the test set in the final evaluation of your models."
   ]
  },
  {
   "cell_type": "code",
   "execution_count": 10,
   "metadata": {},
   "outputs": [
    {
     "data": {
      "text/plain": [
       "392"
      ]
     },
     "execution_count": 10,
     "metadata": {},
     "output_type": "execute_result"
    }
   ],
   "source": [
    "len(dataset)"
   ]
  },
  {
   "cell_type": "code",
   "execution_count": 11,
   "metadata": {
    "execution": {
     "iopub.execute_input": "2024-03-19T01:57:49.208826Z",
     "iopub.status.busy": "2024-03-19T01:57:49.208243Z",
     "iopub.status.idle": "2024-03-19T01:57:49.212302Z",
     "shell.execute_reply": "2024-03-19T01:57:49.211748Z"
    },
    "id": "qn-IGhUE7_1H"
   },
   "outputs": [],
   "source": [
    "train_dataset = dataset.sample(frac=0.8, random_state=0)\n",
    "test_dataset = dataset.drop(train_dataset.index)"
   ]
  },
  {
   "cell_type": "markdown",
   "metadata": {
    "id": "J4ubs136WLNp"
   },
   "source": [
    "### Inspect the data\n",
    "\n",
    "Review the joint distribution of a few pairs of columns from the training set.\n",
    "\n",
    "The top row suggests that the fuel efficiency (MPG) is a function of all the other parameters. The other rows indicate they are functions of each other."
   ]
  },
  {
   "cell_type": "code",
   "execution_count": 12,
   "metadata": {
    "execution": {
     "iopub.execute_input": "2024-03-19T01:57:49.215006Z",
     "iopub.status.busy": "2024-03-19T01:57:49.214788Z",
     "iopub.status.idle": "2024-03-19T01:57:52.371948Z",
     "shell.execute_reply": "2024-03-19T01:57:52.371293Z"
    },
    "id": "oRKO_x8gWKv-"
   },
   "outputs": [
    {
     "data": {
      "text/plain": [
       "<seaborn.axisgrid.PairGrid at 0x7f85e95b2020>"
      ]
     },
     "execution_count": 12,
     "metadata": {},
     "output_type": "execute_result"
    },
    {
     "data": {
      "image/png": "[encoded data removed]",
      "text/plain": [
       "<Figure size 1000x1000 with 20 Axes>"
      ]
     },
     "metadata": {},
     "output_type": "display_data"
    }
   ],
   "source": [
    "sns.pairplot(train_dataset[['MPG', 'Cylinders', 'Displacement', 'Weight']], diag_kind='kde')"
   ]
  },
  {
   "cell_type": "markdown",
   "metadata": {
    "id": "gavKO_6DWRMP"
   },
   "source": [
    "Let's also check the overall statistics. Note how each feature covers a very different range:"
   ]
  },
  {
   "cell_type": "code",
   "execution_count": 13,
   "metadata": {
    "execution": {
     "iopub.execute_input": "2024-03-19T01:57:52.377445Z",
     "iopub.status.busy": "2024-03-19T01:57:52.376733Z",
     "iopub.status.idle": "2024-03-19T01:57:52.399433Z",
     "shell.execute_reply": "2024-03-19T01:57:52.398864Z"
    },
    "id": "yi2FzC3T21jR"
   },
   "outputs": [
    {
     "data": {
      "text/html": [
       "<div>\n",
       "<style scoped>\n",
       "    .dataframe tbody tr th:only-of-type {\n",
       "        vertical-align: middle;\n",
       "    }\n",
       "\n",
       "    .dataframe tbody tr th {\n",
       "        vertical-align: top;\n",
       "    }\n",
       "\n",
       "    .dataframe thead th {\n",
       "        text-align: right;\n",
       "    }\n",
       "</style>\n",
       "<table border=\"1\" class=\"dataframe\">\n",
       "  <thead>\n",
       "    <tr style=\"text-align: right;\">\n",
       "      <th></th>\n",
       "      <th>count</th>\n",
       "      <th>mean</th>\n",
       "      <th>std</th>\n",
       "      <th>min</th>\n",
       "      <th>25%</th>\n",
       "      <th>50%</th>\n",
       "      <th>75%</th>\n",
       "      <th>max</th>\n",
       "    </tr>\n",
       "  </thead>\n",
       "  <tbody>\n",
       "    <tr>\n",
       "      <th>MPG</th>\n",
       "      <td>314.0</td>\n",
       "      <td>23.310510</td>\n",
       "      <td>7.728652</td>\n",
       "      <td>10.0</td>\n",
       "      <td>17.00</td>\n",
       "      <td>22.0</td>\n",
       "      <td>28.95</td>\n",
       "      <td>46.6</td>\n",
       "    </tr>\n",
       "    <tr>\n",
       "      <th>Cylinders</th>\n",
       "      <td>314.0</td>\n",
       "      <td>5.477707</td>\n",
       "      <td>1.699788</td>\n",
       "      <td>3.0</td>\n",
       "      <td>4.00</td>\n",
       "      <td>4.0</td>\n",
       "      <td>8.00</td>\n",
       "      <td>8.0</td>\n",
       "    </tr>\n",
       "    <tr>\n",
       "      <th>Displacement</th>\n",
       "      <td>314.0</td>\n",
       "      <td>195.318471</td>\n",
       "      <td>104.331589</td>\n",
       "      <td>68.0</td>\n",
       "      <td>105.50</td>\n",
       "      <td>151.0</td>\n",
       "      <td>265.75</td>\n",
       "      <td>455.0</td>\n",
       "    </tr>\n",
       "    <tr>\n",
       "      <th>Horsepower</th>\n",
       "      <td>314.0</td>\n",
       "      <td>104.869427</td>\n",
       "      <td>38.096214</td>\n",
       "      <td>46.0</td>\n",
       "      <td>76.25</td>\n",
       "      <td>94.5</td>\n",
       "      <td>128.00</td>\n",
       "      <td>225.0</td>\n",
       "    </tr>\n",
       "    <tr>\n",
       "      <th>Weight</th>\n",
       "      <td>314.0</td>\n",
       "      <td>2990.251592</td>\n",
       "      <td>843.898596</td>\n",
       "      <td>1649.0</td>\n",
       "      <td>2256.50</td>\n",
       "      <td>2822.5</td>\n",
       "      <td>3608.00</td>\n",
       "      <td>5140.0</td>\n",
       "    </tr>\n",
       "    <tr>\n",
       "      <th>Acceleration</th>\n",
       "      <td>314.0</td>\n",
       "      <td>15.559236</td>\n",
       "      <td>2.789230</td>\n",
       "      <td>8.0</td>\n",
       "      <td>13.80</td>\n",
       "      <td>15.5</td>\n",
       "      <td>17.20</td>\n",
       "      <td>24.8</td>\n",
       "    </tr>\n",
       "    <tr>\n",
       "      <th>Model Year</th>\n",
       "      <td>314.0</td>\n",
       "      <td>75.898089</td>\n",
       "      <td>3.675642</td>\n",
       "      <td>70.0</td>\n",
       "      <td>73.00</td>\n",
       "      <td>76.0</td>\n",
       "      <td>79.00</td>\n",
       "      <td>82.0</td>\n",
       "    </tr>\n",
       "  </tbody>\n",
       "</table>\n",
       "</div>"
      ],
      "text/plain": [
       "              count         mean         std     min      25%     50%  \\\n",
       "MPG           314.0    23.310510    7.728652    10.0    17.00    22.0   \n",
       "Cylinders     314.0     5.477707    1.699788     3.0     4.00     4.0   \n",
       "Displacement  314.0   195.318471  104.331589    68.0   105.50   151.0   \n",
       "Horsepower    314.0   104.869427   38.096214    46.0    76.25    94.5   \n",
       "Weight        314.0  2990.251592  843.898596  1649.0  2256.50  2822.5   \n",
       "Acceleration  314.0    15.559236    2.789230     8.0    13.80    15.5   \n",
       "Model Year    314.0    75.898089    3.675642    70.0    73.00    76.0   \n",
       "\n",
       "                  75%     max  \n",
       "MPG             28.95    46.6  \n",
       "Cylinders        8.00     8.0  \n",
       "Displacement   265.75   455.0  \n",
       "Horsepower     128.00   225.0  \n",
       "Weight        3608.00  5140.0  \n",
       "Acceleration    17.20    24.8  \n",
       "Model Year      79.00    82.0  "
      ]
     },
     "execution_count": 13,
     "metadata": {},
     "output_type": "execute_result"
    }
   ],
   "source": [
    "train_dataset.describe().transpose()"
   ]
  },
  {
   "cell_type": "markdown",
   "metadata": {
    "id": "Db7Auq1yXUvh"
   },
   "source": [
    "### Split features from labels\n",
    "\n",
    "Separate the target value—the \"label\"—from the features. This label is the value that you will train the model to predict."
   ]
  },
  {
   "cell_type": "code",
   "execution_count": 14,
   "metadata": {
    "execution": {
     "iopub.execute_input": "2024-03-19T01:57:52.402581Z",
     "iopub.status.busy": "2024-03-19T01:57:52.402215Z",
     "iopub.status.idle": "2024-03-19T01:57:52.406441Z",
     "shell.execute_reply": "2024-03-19T01:57:52.405777Z"
    },
    "id": "t2sluJdCW7jN"
   },
   "outputs": [],
   "source": [
    "train_features = train_dataset.copy()\n",
    "test_features = test_dataset.copy()\n",
    "\n",
    "train_labels = train_features.pop('MPG')\n",
    "test_labels = test_features.pop('MPG')"
   ]
  },
  {
   "cell_type": "markdown",
   "metadata": {
    "id": "mRklxK5s388r"
   },
   "source": [
    "## Normalization\n",
    "\n",
    "In the table of statistics it's easy to see how different the ranges of each feature are:"
   ]
  },
  {
   "cell_type": "code",
   "execution_count": 15,
   "metadata": {
    "execution": {
     "iopub.execute_input": "2024-03-19T01:57:52.409899Z",
     "iopub.status.busy": "2024-03-19T01:57:52.409325Z",
     "iopub.status.idle": "2024-03-19T01:57:52.426660Z",
     "shell.execute_reply": "2024-03-19T01:57:52.426005Z"
    },
    "id": "IcmY6lKKbkw8"
   },
   "outputs": [
    {
     "data": {
      "text/html": [
       "<div>\n",
       "<style scoped>\n",
       "    .dataframe tbody tr th:only-of-type {\n",
       "        vertical-align: middle;\n",
       "    }\n",
       "\n",
       "    .dataframe tbody tr th {\n",
       "        vertical-align: top;\n",
       "    }\n",
       "\n",
       "    .dataframe thead th {\n",
       "        text-align: right;\n",
       "    }\n",
       "</style>\n",
       "<table border=\"1\" class=\"dataframe\">\n",
       "  <thead>\n",
       "    <tr style=\"text-align: right;\">\n",
       "      <th></th>\n",
       "      <th>mean</th>\n",
       "      <th>std</th>\n",
       "    </tr>\n",
       "  </thead>\n",
       "  <tbody>\n",
       "    <tr>\n",
       "      <th>MPG</th>\n",
       "      <td>23.310510</td>\n",
       "      <td>7.728652</td>\n",
       "    </tr>\n",
       "    <tr>\n",
       "      <th>Cylinders</th>\n",
       "      <td>5.477707</td>\n",
       "      <td>1.699788</td>\n",
       "    </tr>\n",
       "    <tr>\n",
       "      <th>Displacement</th>\n",
       "      <td>195.318471</td>\n",
       "      <td>104.331589</td>\n",
       "    </tr>\n",
       "    <tr>\n",
       "      <th>Horsepower</th>\n",
       "      <td>104.869427</td>\n",
       "      <td>38.096214</td>\n",
       "    </tr>\n",
       "    <tr>\n",
       "      <th>Weight</th>\n",
       "      <td>2990.251592</td>\n",
       "      <td>843.898596</td>\n",
       "    </tr>\n",
       "    <tr>\n",
       "      <th>Acceleration</th>\n",
       "      <td>15.559236</td>\n",
       "      <td>2.789230</td>\n",
       "    </tr>\n",
       "    <tr>\n",
       "      <th>Model Year</th>\n",
       "      <td>75.898089</td>\n",
       "      <td>3.675642</td>\n",
       "    </tr>\n",
       "  </tbody>\n",
       "</table>\n",
       "</div>"
      ],
      "text/plain": [
       "                     mean         std\n",
       "MPG             23.310510    7.728652\n",
       "Cylinders        5.477707    1.699788\n",
       "Displacement   195.318471  104.331589\n",
       "Horsepower     104.869427   38.096214\n",
       "Weight        2990.251592  843.898596\n",
       "Acceleration    15.559236    2.789230\n",
       "Model Year      75.898089    3.675642"
      ]
     },
     "execution_count": 15,
     "metadata": {},
     "output_type": "execute_result"
    }
   ],
   "source": [
    "train_dataset.describe().transpose()[['mean', 'std']]"
   ]
  },
  {
   "cell_type": "markdown",
   "metadata": {
    "id": "-ywmerQ6dSox"
   },
   "source": [
    "It is good practice to normalize features that use different scales and ranges.\n",
    "\n",
    "One reason this is important is because the features are multiplied by the model weights. So, the scale of the outputs and the scale of the gradients are affected by the scale of the inputs.\n",
    "\n",
    "Although a model *might* converge without feature normalization, normalization makes training much more stable.\n",
    "\n",
    "Note: There is no advantage to normalizing the one-hot features—it is done here for simplicity. For more details on how to use the preprocessing layers, refer to the [Working with preprocessing layers](https://www.tensorflow.org/guide/keras/preprocessing_layers) guide and the [Classify structured data using Keras preprocessing layers](../structured_data/preprocessing_layers.ipynb) tutorial."
   ]
  },
  {
   "cell_type": "markdown",
   "metadata": {
    "id": "aFJ6ISropeoo"
   },
   "source": [
    "### The Normalization layer\n",
    "\n",
    "The `tf.keras.layers.Normalization` is a clean and simple way to add feature normalization into your model.\n",
    "\n",
    "The first step is to create the layer:"
   ]
  },
  {
   "cell_type": "code",
   "execution_count": 68,
   "metadata": {
    "execution": {
     "iopub.execute_input": "2024-03-19T01:57:52.430140Z",
     "iopub.status.busy": "2024-03-19T01:57:52.429610Z",
     "iopub.status.idle": "2024-03-19T01:57:52.433216Z",
     "shell.execute_reply": "2024-03-19T01:57:52.432672Z"
    },
    "id": "JlC5ooJrgjQF"
   },
   "outputs": [],
   "source": [
    "#normalizer = tf.keras.layers.Normalization(axis=-1)"
   ]
  },
  {
   "cell_type": "code",
   "execution_count": 69,
   "metadata": {},
   "outputs": [],
   "source": [
    "#MODIFICADO: evitar error al deserializar el modelo al final del cuaderno\n",
    "normalizer = tf.keras.layers.Normalization(input_shape=(9,))"
   ]
  },
  {
   "cell_type": "markdown",
   "metadata": {
    "id": "XYA2Ap6nVOha"
   },
   "source": [
    "Then, fit the state of the preprocessing layer to the data by calling `Normalization.adapt`:"
   ]
  },
  {
   "cell_type": "code",
   "execution_count": 70,
   "metadata": {
    "execution": {
     "iopub.execute_input": "2024-03-19T01:57:52.436336Z",
     "iopub.status.busy": "2024-03-19T01:57:52.435906Z",
     "iopub.status.idle": "2024-03-19T01:57:54.724731Z",
     "shell.execute_reply": "2024-03-19T01:57:54.723971Z"
    },
    "id": "CrBbbjbwV91f"
   },
   "outputs": [],
   "source": [
    "#normalizer.adapt(np.array(train_features))"
   ]
  },
  {
   "cell_type": "code",
   "execution_count": 115,
   "metadata": {},
   "outputs": [
    {
     "name": "stdout",
     "output_type": "stream",
     "text": [
      "<class 'pandas.core.frame.DataFrame'>\n",
      "Index: 314 entries, 146 to 182\n",
      "Data columns (total 9 columns):\n",
      " #   Column        Non-Null Count  Dtype  \n",
      "---  ------        --------------  -----  \n",
      " 0   Cylinders     314 non-null    int64  \n",
      " 1   Displacement  314 non-null    float64\n",
      " 2   Horsepower    314 non-null    float64\n",
      " 3   Weight        314 non-null    float64\n",
      " 4   Acceleration  314 non-null    float64\n",
      " 5   Model Year    314 non-null    int64  \n",
      " 6   Europe        314 non-null    int64  \n",
      " 7   Japan         314 non-null    int64  \n",
      " 8   USA           314 non-null    int64  \n",
      "dtypes: float64(4), int64(5)\n",
      "memory usage: 24.5 KB\n",
      "None\n"
     ]
    }
   ],
   "source": [
    "#MODIFICADO: evitar error al crear tensores con codificación one-hote y booleanos\n",
    "print(train_features.info(verbose=True))\n",
    "train_features[[\"Europe\", \"Japan\", \"USA\"]] = train_features[[\"Europe\", \"Japan\", \"USA\"]].astype(int)\n",
    "#train_features.info(verbose=True)"
   ]
  },
  {
   "cell_type": "code",
   "execution_count": 73,
   "metadata": {},
   "outputs": [],
   "source": [
    "normalizer.adapt(np.array(train_features))"
   ]
  },
  {
   "cell_type": "markdown",
   "metadata": {
    "id": "oZccMR5yV9YV"
   },
   "source": [
    "Calculate the mean and variance, and store them in the layer:"
   ]
  },
  {
   "cell_type": "code",
   "execution_count": 74,
   "metadata": {
    "execution": {
     "iopub.execute_input": "2024-03-19T01:57:54.728817Z",
     "iopub.status.busy": "2024-03-19T01:57:54.728150Z",
     "iopub.status.idle": "2024-03-19T01:57:54.732579Z",
     "shell.execute_reply": "2024-03-19T01:57:54.731933Z"
    },
    "id": "GGn-ukwxSPtx"
   },
   "outputs": [
    {
     "name": "stdout",
     "output_type": "stream",
     "text": [
      "[[   5.478  195.318  104.869 2990.252   15.559   75.898    0.178    0.197\n",
      "     0.624]]\n"
     ]
    }
   ],
   "source": [
    "print(normalizer.mean.numpy())"
   ]
  },
  {
   "cell_type": "markdown",
   "metadata": {
    "id": "oGWKaF9GSRuN"
   },
   "source": [
    "When the layer is called, it returns the input data, with each feature independently normalized:"
   ]
  },
  {
   "cell_type": "code",
   "execution_count": 75,
   "metadata": {
    "execution": {
     "iopub.execute_input": "2024-03-19T01:57:54.736018Z",
     "iopub.status.busy": "2024-03-19T01:57:54.735500Z",
     "iopub.status.idle": "2024-03-19T01:57:55.174742Z",
     "shell.execute_reply": "2024-03-19T01:57:55.173802Z"
    },
    "id": "2l7zFL_XWIRu"
   },
   "outputs": [
    {
     "name": "stdout",
     "output_type": "stream",
     "text": [
      "First example: [[   4.    90.    75.  2125.    14.5   74.     0.     0.     1. ]]\n",
      "\n",
      "Normalized: [[-0.87 -1.01 -0.79 -1.03 -0.38 -0.52 -0.47 -0.5   0.78]]\n"
     ]
    }
   ],
   "source": [
    "first = np.array(train_features[:1])\n",
    "\n",
    "with np.printoptions(precision=2, suppress=True):\n",
    "  print('First example:', first)\n",
    "  print()\n",
    "  print('Normalized:', normalizer(first).numpy())"
   ]
  },
  {
   "cell_type": "markdown",
   "metadata": {
    "id": "6o3CrycBXA2s"
   },
   "source": [
    "## Linear regression\n",
    "\n",
    "Before building a deep neural network model, start with linear regression using one and several variables."
   ]
  },
  {
   "cell_type": "markdown",
   "metadata": {
    "id": "lFby9n0tnHkw"
   },
   "source": [
    "### Linear regression with one variable\n",
    "\n",
    "Begin with a single-variable linear regression to predict `'MPG'` from `'Horsepower'`.\n",
    "\n",
    "Training a model with `tf.keras` typically starts by defining the model architecture. Use a `tf.keras.Sequential` model, which [represents a sequence of steps](https://www.tensorflow.org/guide/keras/sequential_model).\n",
    "\n",
    "There are two steps in your single-variable linear regression model:\n",
    "\n",
    "- Normalize the `'Horsepower'` input features using the `tf.keras.layers.Normalization` preprocessing layer.\n",
    "- Apply a linear transformation ($y = mx+b$) to produce 1 output using a linear layer (`tf.keras.layers.Dense`).\n",
    "\n",
    "The number of _inputs_ can either be set by the `input_shape` argument, or automatically when the model is run for the first time."
   ]
  },
  {
   "cell_type": "markdown",
   "metadata": {
    "id": "Xp3gAFn3TPv8"
   },
   "source": [
    "First, create a NumPy array made of the `'Horsepower'` features. Then, instantiate the `tf.keras.layers.Normalization` and fit its state to the `horsepower` data:"
   ]
  },
  {
   "cell_type": "code",
   "execution_count": 76,
   "metadata": {
    "execution": {
     "iopub.execute_input": "2024-03-19T01:57:55.179032Z",
     "iopub.status.busy": "2024-03-19T01:57:55.178459Z",
     "iopub.status.idle": "2024-03-19T01:57:55.194899Z",
     "shell.execute_reply": "2024-03-19T01:57:55.193950Z"
    },
    "id": "1gJAy0fKs1TS"
   },
   "outputs": [],
   "source": [
    "horsepower = np.array(train_features['Horsepower'])\n",
    "\n",
    "horsepower_normalizer = layers.Normalization(input_shape=[1,], axis=None)\n",
    "horsepower_normalizer.adapt(horsepower)"
   ]
  },
  {
   "cell_type": "markdown",
   "metadata": {
    "id": "4NVlHJY2TWlC"
   },
   "source": [
    "Build the Keras Sequential model:"
   ]
  },
  {
   "cell_type": "code",
   "execution_count": 77,
   "metadata": {
    "execution": {
     "iopub.execute_input": "2024-03-19T01:57:55.198744Z",
     "iopub.status.busy": "2024-03-19T01:57:55.198034Z",
     "iopub.status.idle": "2024-03-19T01:57:55.234747Z",
     "shell.execute_reply": "2024-03-19T01:57:55.233927Z"
    },
    "id": "c0sXM7qLlKfZ"
   },
   "outputs": [
    {
     "name": "stdout",
     "output_type": "stream",
     "text": [
      "Model: \"sequential_4\"\n",
      "_________________________________________________________________\n",
      " Layer (type)                Output Shape              Param #   \n",
      "=================================================================\n",
      " normalization_3 (Normaliza  (None, 1)                 3         \n",
      " tion)                                                           \n",
      "                                                                 \n",
      " dense_8 (Dense)             (None, 1)                 2         \n",
      "                                                                 \n",
      "=================================================================\n",
      "Total params: 5 (24.00 Byte)\n",
      "Trainable params: 2 (8.00 Byte)\n",
      "Non-trainable params: 3 (16.00 Byte)\n",
      "_________________________________________________________________\n"
     ]
    }
   ],
   "source": [
    "horsepower_model = tf.keras.Sequential([\n",
    "    horsepower_normalizer,\n",
    "    layers.Dense(units=1)\n",
    "])\n",
    "\n",
    "horsepower_model.summary()"
   ]
  },
  {
   "cell_type": "markdown",
   "metadata": {
    "id": "eObQu9fDnXGL"
   },
   "source": [
    "This model will predict `'MPG'` from `'Horsepower'`.\n",
    "\n",
    "Run the untrained model on the first 10 'Horsepower' values. The output won't be good, but notice that it has the expected shape of `(10, 1)`:"
   ]
  },
  {
   "cell_type": "code",
   "execution_count": 78,
   "metadata": {
    "execution": {
     "iopub.execute_input": "2024-03-19T01:57:55.238053Z",
     "iopub.status.busy": "2024-03-19T01:57:55.237802Z",
     "iopub.status.idle": "2024-03-19T01:57:55.516623Z",
     "shell.execute_reply": "2024-03-19T01:57:55.515566Z"
    },
    "id": "UfV1HS6bns-s"
   },
   "outputs": [
    {
     "name": "stdout",
     "output_type": "stream",
     "text": [
      "1/1 [==============================] - 0s 30ms/step\n"
     ]
    },
    {
     "data": {
      "text/plain": [
       "array([[ 0.728],\n",
       "       [ 0.411],\n",
       "       [-1.343],\n",
       "       [ 1.02 ],\n",
       "       [ 0.923],\n",
       "       [ 0.362],\n",
       "       [ 1.093],\n",
       "       [ 0.923],\n",
       "       [ 0.241],\n",
       "       [ 0.411]], dtype=float32)"
      ]
     },
     "execution_count": 78,
     "metadata": {},
     "output_type": "execute_result"
    }
   ],
   "source": [
    "horsepower_model.predict(horsepower[:10])"
   ]
  },
  {
   "cell_type": "markdown",
   "metadata": {
    "id": "CSkanJlmmFBX"
   },
   "source": [
    "Once the model is built, configure the training procedure using the Keras `Model.compile` method. The most important arguments to compile are the `loss` and the `optimizer`, since these define what will be optimized (`mean_absolute_error`) and how (using the `tf.keras.optimizers.Adam`)."
   ]
  },
  {
   "cell_type": "code",
   "execution_count": 79,
   "metadata": {
    "execution": {
     "iopub.execute_input": "2024-03-19T01:57:55.520114Z",
     "iopub.status.busy": "2024-03-19T01:57:55.519843Z",
     "iopub.status.idle": "2024-03-19T01:57:55.530778Z",
     "shell.execute_reply": "2024-03-19T01:57:55.529951Z"
    },
    "id": "JxA_3lpOm-SK"
   },
   "outputs": [],
   "source": [
    "horsepower_model.compile(\n",
    "    optimizer=tf.keras.optimizers.Adam(learning_rate=0.1),\n",
    "    loss='mean_absolute_error')"
   ]
  },
  {
   "cell_type": "markdown",
   "metadata": {
    "id": "Z3q1I9TwnRSC"
   },
   "source": [
    "Use Keras `Model.fit` to execute the training for 100 epochs:"
   ]
  },
  {
   "cell_type": "code",
   "execution_count": 80,
   "metadata": {
    "execution": {
     "iopub.execute_input": "2024-03-19T01:57:55.534332Z",
     "iopub.status.busy": "2024-03-19T01:57:55.533850Z",
     "iopub.status.idle": "2024-03-19T01:58:06.681119Z",
     "shell.execute_reply": "2024-03-19T01:58:06.680277Z"
    },
    "id": "-iSrNy59nRAp"
   },
   "outputs": [
    {
     "name": "stdout",
     "output_type": "stream",
     "text": [
      "CPU times: user 4.18 s, sys: 1.01 s, total: 5.19 s\n",
      "Wall time: 4.39 s\n"
     ]
    }
   ],
   "source": [
    "%%time\n",
    "history = horsepower_model.fit(\n",
    "    train_features['Horsepower'],\n",
    "    train_labels,\n",
    "    epochs=100,\n",
    "    # Suppress logging.\n",
    "    verbose=0,\n",
    "    # Calculate validation results on 20% of the training data.\n",
    "    validation_split = 0.2)"
   ]
  },
  {
   "cell_type": "markdown",
   "metadata": {
    "id": "tQm3pc0FYPQB"
   },
   "source": [
    "Visualize the model's training progress using the stats stored in the `history` object:"
   ]
  },
  {
   "cell_type": "code",
   "execution_count": 81,
   "metadata": {
    "execution": {
     "iopub.execute_input": "2024-03-19T01:58:06.685046Z",
     "iopub.status.busy": "2024-03-19T01:58:06.684313Z",
     "iopub.status.idle": "2024-03-19T01:58:06.693516Z",
     "shell.execute_reply": "2024-03-19T01:58:06.692829Z"
    },
    "id": "YCAwD_y4AdC3"
   },
   "outputs": [
    {
     "data": {
      "text/html": [
       "<div>\n",
       "<style scoped>\n",
       "    .dataframe tbody tr th:only-of-type {\n",
       "        vertical-align: middle;\n",
       "    }\n",
       "\n",
       "    .dataframe tbody tr th {\n",
       "        vertical-align: top;\n",
       "    }\n",
       "\n",
       "    .dataframe thead th {\n",
       "        text-align: right;\n",
       "    }\n",
       "</style>\n",
       "<table border=\"1\" class=\"dataframe\">\n",
       "  <thead>\n",
       "    <tr style=\"text-align: right;\">\n",
       "      <th></th>\n",
       "      <th>loss</th>\n",
       "      <th>val_loss</th>\n",
       "      <th>epoch</th>\n",
       "    </tr>\n",
       "  </thead>\n",
       "  <tbody>\n",
       "    <tr>\n",
       "      <th>95</th>\n",
       "      <td>3.812356</td>\n",
       "      <td>4.142179</td>\n",
       "      <td>95</td>\n",
       "    </tr>\n",
       "    <tr>\n",
       "      <th>96</th>\n",
       "      <td>3.805298</td>\n",
       "      <td>4.160269</td>\n",
       "      <td>96</td>\n",
       "    </tr>\n",
       "    <tr>\n",
       "      <th>97</th>\n",
       "      <td>3.803691</td>\n",
       "      <td>4.174880</td>\n",
       "      <td>97</td>\n",
       "    </tr>\n",
       "    <tr>\n",
       "      <th>98</th>\n",
       "      <td>3.803404</td>\n",
       "      <td>4.205595</td>\n",
       "      <td>98</td>\n",
       "    </tr>\n",
       "    <tr>\n",
       "      <th>99</th>\n",
       "      <td>3.804399</td>\n",
       "      <td>4.200066</td>\n",
       "      <td>99</td>\n",
       "    </tr>\n",
       "  </tbody>\n",
       "</table>\n",
       "</div>"
      ],
      "text/plain": [
       "        loss  val_loss  epoch\n",
       "95  3.812356  4.142179     95\n",
       "96  3.805298  4.160269     96\n",
       "97  3.803691  4.174880     97\n",
       "98  3.803404  4.205595     98\n",
       "99  3.804399  4.200066     99"
      ]
     },
     "execution_count": 81,
     "metadata": {},
     "output_type": "execute_result"
    }
   ],
   "source": [
    "hist = pd.DataFrame(history.history)\n",
    "hist['epoch'] = history.epoch\n",
    "hist.tail()"
   ]
  },
  {
   "cell_type": "code",
   "execution_count": 82,
   "metadata": {
    "execution": {
     "iopub.execute_input": "2024-03-19T01:58:06.697010Z",
     "iopub.status.busy": "2024-03-19T01:58:06.696341Z",
     "iopub.status.idle": "2024-03-19T01:58:06.700479Z",
     "shell.execute_reply": "2024-03-19T01:58:06.699907Z"
    },
    "id": "9E54UoZunqhc"
   },
   "outputs": [],
   "source": [
    "def plot_loss(history):\n",
    "  plt.plot(history.history['loss'], label='loss')\n",
    "  plt.plot(history.history['val_loss'], label='val_loss')\n",
    "  plt.ylim([0, 10])\n",
    "  plt.xlabel('Epoch')\n",
    "  plt.ylabel('Error [MPG]')\n",
    "  plt.legend()\n",
    "  plt.grid(True)"
   ]
  },
  {
   "cell_type": "code",
   "execution_count": 83,
   "metadata": {
    "execution": {
     "iopub.execute_input": "2024-03-19T01:58:06.703640Z",
     "iopub.status.busy": "2024-03-19T01:58:06.703157Z",
     "iopub.status.idle": "2024-03-19T01:58:06.859885Z",
     "shell.execute_reply": "2024-03-19T01:58:06.859250Z"
    },
    "id": "yYsQYrIZyqjz"
   },
   "outputs": [
    {
     "data": {
      "image/png": "[encoded data removed]",
      "text/plain": [
       "<Figure size 640x480 with 1 Axes>"
      ]
     },
     "metadata": {},
     "output_type": "display_data"
    }
   ],
   "source": [
    "plot_loss(history)"
   ]
  },
  {
   "cell_type": "markdown",
   "metadata": {
    "id": "CMNrt8X2ebXd"
   },
   "source": [
    "Collect the results on the test set for later:"
   ]
  },
  {
   "cell_type": "code",
   "execution_count": 84,
   "metadata": {
    "execution": {
     "iopub.execute_input": "2024-03-19T01:58:06.863278Z",
     "iopub.status.busy": "2024-03-19T01:58:06.863009Z",
     "iopub.status.idle": "2024-03-19T01:58:07.060111Z",
     "shell.execute_reply": "2024-03-19T01:58:07.059294Z"
    },
    "id": "kDZ8EvNYrDtx"
   },
   "outputs": [],
   "source": [
    "test_results = {}\n",
    "\n",
    "test_results['horsepower_model'] = horsepower_model.evaluate(\n",
    "    test_features['Horsepower'],\n",
    "    test_labels, verbose=0)"
   ]
  },
  {
   "cell_type": "markdown",
   "metadata": {
    "id": "F0qutYAKwoda"
   },
   "source": [
    "Since this is a single variable regression, it's easy to view the model's predictions as a function of the input:"
   ]
  },
  {
   "cell_type": "code",
   "execution_count": 85,
   "metadata": {
    "execution": {
     "iopub.execute_input": "2024-03-19T01:58:07.064600Z",
     "iopub.status.busy": "2024-03-19T01:58:07.063947Z",
     "iopub.status.idle": "2024-03-19T01:58:08.078290Z",
     "shell.execute_reply": "2024-03-19T01:58:08.077534Z"
    },
    "id": "xDS2JEtOn9Jn"
   },
   "outputs": [
    {
     "name": "stdout",
     "output_type": "stream",
     "text": [
      "8/8 [==============================] - 0s 2ms/step\n"
     ]
    }
   ],
   "source": [
    "x = tf.linspace(0.0, 250, 251)\n",
    "y = horsepower_model.predict(x)"
   ]
  },
  {
   "cell_type": "code",
   "execution_count": 86,
   "metadata": {
    "execution": {
     "iopub.execute_input": "2024-03-19T01:58:08.082318Z",
     "iopub.status.busy": "2024-03-19T01:58:08.081735Z",
     "iopub.status.idle": "2024-03-19T01:58:08.086278Z",
     "shell.execute_reply": "2024-03-19T01:58:08.085546Z"
    },
    "id": "rttFCTU8czsI"
   },
   "outputs": [],
   "source": [
    "def plot_horsepower(x, y):\n",
    "  plt.scatter(train_features['Horsepower'], train_labels, label='Data')\n",
    "  plt.plot(x, y, color='k', label='Predictions')\n",
    "  plt.xlabel('Horsepower')\n",
    "  plt.ylabel('MPG')\n",
    "  plt.legend()"
   ]
  },
  {
   "cell_type": "code",
   "execution_count": 87,
   "metadata": {
    "execution": {
     "iopub.execute_input": "2024-03-19T01:58:08.089675Z",
     "iopub.status.busy": "2024-03-19T01:58:08.089190Z",
     "iopub.status.idle": "2024-03-19T01:58:08.278038Z",
     "shell.execute_reply": "2024-03-19T01:58:08.277209Z"
    },
    "id": "7l9ZiAOEUNBL"
   },
   "outputs": [
    {
     "data": {
      "image/png": "[encoded data removed]",
      "text/plain": [
       "<Figure size 640x480 with 1 Axes>"
      ]
     },
     "metadata": {},
     "output_type": "display_data"
    }
   ],
   "source": [
    "plot_horsepower(x, y)"
   ]
  },
  {
   "cell_type": "markdown",
   "metadata": {
    "id": "Yk2RmlqPoM9u"
   },
   "source": [
    "### Linear regression with multiple inputs"
   ]
  },
  {
   "cell_type": "markdown",
   "metadata": {
    "id": "PribnwDHUksC"
   },
   "source": [
    "You can use an almost identical setup to make predictions based on multiple inputs. This model still does the same $y = mx+b$ except that $m$ is a matrix and $x$ is a vector.\n",
    "\n",
    "Create a two-step Keras Sequential model again with the first layer being `normalizer` (`tf.keras.layers.Normalization(axis=-1)`) you defined earlier and adapted to the whole dataset:"
   ]
  },
  {
   "cell_type": "code",
   "execution_count": 88,
   "metadata": {
    "execution": {
     "iopub.execute_input": "2024-03-19T01:58:08.281875Z",
     "iopub.status.busy": "2024-03-19T01:58:08.281259Z",
     "iopub.status.idle": "2024-03-19T01:58:08.285990Z",
     "shell.execute_reply": "2024-03-19T01:58:08.285367Z"
    },
    "id": "ssnVcKg7oMe6"
   },
   "outputs": [],
   "source": [
    "linear_model = tf.keras.Sequential([\n",
    "    normalizer,\n",
    "    layers.Dense(units=1)\n",
    "])"
   ]
  },
  {
   "cell_type": "markdown",
   "metadata": {
    "id": "IHlx6WeIWyAr"
   },
   "source": [
    "When you call `Model.predict` on a batch of inputs, it produces `units=1` outputs for each example:"
   ]
  },
  {
   "cell_type": "code",
   "execution_count": 89,
   "metadata": {
    "execution": {
     "iopub.execute_input": "2024-03-19T01:58:08.289519Z",
     "iopub.status.busy": "2024-03-19T01:58:08.288959Z",
     "iopub.status.idle": "2024-03-19T01:58:08.566743Z",
     "shell.execute_reply": "2024-03-19T01:58:08.566038Z"
    },
    "id": "DynfJV18WiuT"
   },
   "outputs": [
    {
     "name": "stdout",
     "output_type": "stream",
     "text": [
      "1/1 [==============================] - 0s 30ms/step\n"
     ]
    },
    {
     "data": {
      "text/plain": [
       "array([[-2.098],\n",
       "       [-1.719],\n",
       "       [ 3.316],\n",
       "       [-3.289],\n",
       "       [-1.189],\n",
       "       [-0.809],\n",
       "       [-1.589],\n",
       "       [-1.615],\n",
       "       [-0.444],\n",
       "       [ 0.171]], dtype=float32)"
      ]
     },
     "execution_count": 89,
     "metadata": {},
     "output_type": "execute_result"
    }
   ],
   "source": [
    "linear_model.predict(train_features[:10])"
   ]
  },
  {
   "cell_type": "markdown",
   "metadata": {
    "id": "hvHKH3rPXHmq"
   },
   "source": [
    "When you call the model, its weight matrices will be built—check that the `kernel` weights (the $m$ in $y=mx+b$) have a shape of `(9, 1)`:"
   ]
  },
  {
   "cell_type": "code",
   "execution_count": 90,
   "metadata": {
    "execution": {
     "iopub.execute_input": "2024-03-19T01:58:08.570537Z",
     "iopub.status.busy": "2024-03-19T01:58:08.569982Z",
     "iopub.status.idle": "2024-03-19T01:58:08.574558Z",
     "shell.execute_reply": "2024-03-19T01:58:08.573964Z"
    },
    "id": "DwJ4Fq0RXBQf"
   },
   "outputs": [
    {
     "data": {
      "text/plain": [
       "<tf.Variable 'dense_9/kernel:0' shape=(9, 1) dtype=float32, numpy=\n",
       "array([[-0.088],\n",
       "       [ 0.629],\n",
       "       [ 0.747],\n",
       "       [ 0.741],\n",
       "       [-0.205],\n",
       "       [-0.473],\n",
       "       [ 0.014],\n",
       "       [ 0.577],\n",
       "       [-0.284]], dtype=float32)>"
      ]
     },
     "execution_count": 90,
     "metadata": {},
     "output_type": "execute_result"
    }
   ],
   "source": [
    "linear_model.layers[1].kernel"
   ]
  },
  {
   "cell_type": "markdown",
   "metadata": {
    "id": "eINAc6rZXzOt"
   },
   "source": [
    "Configure the model with Keras `Model.compile` and train with `Model.fit` for 100 epochs:"
   ]
  },
  {
   "cell_type": "code",
   "execution_count": 91,
   "metadata": {
    "execution": {
     "iopub.execute_input": "2024-03-19T01:58:08.577978Z",
     "iopub.status.busy": "2024-03-19T01:58:08.577330Z",
     "iopub.status.idle": "2024-03-19T01:58:08.584080Z",
     "shell.execute_reply": "2024-03-19T01:58:08.583492Z"
    },
    "id": "A0Sv_Ybr0szp"
   },
   "outputs": [],
   "source": [
    "linear_model.compile(\n",
    "    optimizer=tf.keras.optimizers.Adam(learning_rate=0.1),\n",
    "    loss='mean_absolute_error')"
   ]
  },
  {
   "cell_type": "code",
   "execution_count": 92,
   "metadata": {
    "execution": {
     "iopub.execute_input": "2024-03-19T01:58:08.587487Z",
     "iopub.status.busy": "2024-03-19T01:58:08.586942Z",
     "iopub.status.idle": "2024-03-19T01:58:20.015550Z",
     "shell.execute_reply": "2024-03-19T01:58:20.014830Z"
    },
    "id": "EZoOYORvoTSe"
   },
   "outputs": [
    {
     "name": "stdout",
     "output_type": "stream",
     "text": [
      "CPU times: user 4.17 s, sys: 1.2 s, total: 5.37 s\n",
      "Wall time: 4.52 s\n"
     ]
    }
   ],
   "source": [
    "%%time\n",
    "history = linear_model.fit(\n",
    "    train_features,\n",
    "    train_labels,\n",
    "    epochs=100,\n",
    "    # Suppress logging.\n",
    "    verbose=0,\n",
    "    # Calculate validation results on 20% of the training data.\n",
    "    validation_split = 0.2)"
   ]
  },
  {
   "cell_type": "markdown",
   "metadata": {
    "id": "EdxiCbiNYK2F"
   },
   "source": [
    "Using all the inputs in this regression model achieves a much lower training and validation error than the `horsepower_model`, which had one input:"
   ]
  },
  {
   "cell_type": "code",
   "execution_count": 93,
   "metadata": {
    "execution": {
     "iopub.execute_input": "2024-03-19T01:58:20.019119Z",
     "iopub.status.busy": "2024-03-19T01:58:20.018862Z",
     "iopub.status.idle": "2024-03-19T01:58:20.172733Z",
     "shell.execute_reply": "2024-03-19T01:58:20.172105Z"
    },
    "id": "4sWO3W0koYgu"
   },
   "outputs": [
    {
     "data": {
      "image/png": "[encoded data removed]",
      "text/plain": [
       "<Figure size 640x480 with 1 Axes>"
      ]
     },
     "metadata": {},
     "output_type": "display_data"
    }
   ],
   "source": [
    "plot_loss(history)"
   ]
  },
  {
   "cell_type": "markdown",
   "metadata": {
    "id": "NyN49hIWe_NH"
   },
   "source": [
    "Collect the results on the test set for later:"
   ]
  },
  {
   "cell_type": "code",
   "execution_count": 94,
   "metadata": {},
   "outputs": [
    {
     "name": "stdout",
     "output_type": "stream",
     "text": [
      "<class 'pandas.core.frame.DataFrame'>\n",
      "Index: 78 entries, 9 to 396\n",
      "Data columns (total 9 columns):\n",
      " #   Column        Non-Null Count  Dtype  \n",
      "---  ------        --------------  -----  \n",
      " 0   Cylinders     78 non-null     int64  \n",
      " 1   Displacement  78 non-null     float64\n",
      " 2   Horsepower    78 non-null     float64\n",
      " 3   Weight        78 non-null     float64\n",
      " 4   Acceleration  78 non-null     float64\n",
      " 5   Model Year    78 non-null     int64  \n",
      " 6   Europe        78 non-null     int64  \n",
      " 7   Japan         78 non-null     int64  \n",
      " 8   USA           78 non-null     int64  \n",
      "dtypes: float64(4), int64(5)\n",
      "memory usage: 6.1 KB\n"
     ]
    }
   ],
   "source": [
    "#MODIFICADO\n",
    "test_features[[\"Europe\", \"Japan\", \"USA\"]] = test_features[[\"Europe\", \"Japan\", \"USA\"]].astype(int)\n",
    "test_features.info(verbose=True)"
   ]
  },
  {
   "cell_type": "code",
   "execution_count": 95,
   "metadata": {
    "execution": {
     "iopub.execute_input": "2024-03-19T01:58:20.176156Z",
     "iopub.status.busy": "2024-03-19T01:58:20.175633Z",
     "iopub.status.idle": "2024-03-19T01:58:20.379835Z",
     "shell.execute_reply": "2024-03-19T01:58:20.379047Z"
    },
    "id": "jNC3D1DGsGgK"
   },
   "outputs": [],
   "source": [
    "test_results['linear_model'] = linear_model.evaluate(\n",
    "    test_features, test_labels, verbose=0)"
   ]
  },
  {
   "cell_type": "code",
   "execution_count": 96,
   "metadata": {},
   "outputs": [
    {
     "data": {
      "text/html": [
       "<div>\n",
       "<style scoped>\n",
       "    .dataframe tbody tr th:only-of-type {\n",
       "        vertical-align: middle;\n",
       "    }\n",
       "\n",
       "    .dataframe tbody tr th {\n",
       "        vertical-align: top;\n",
       "    }\n",
       "\n",
       "    .dataframe thead th {\n",
       "        text-align: right;\n",
       "    }\n",
       "</style>\n",
       "<table border=\"1\" class=\"dataframe\">\n",
       "  <thead>\n",
       "    <tr style=\"text-align: right;\">\n",
       "      <th></th>\n",
       "      <th>Cylinders</th>\n",
       "      <th>Displacement</th>\n",
       "      <th>Horsepower</th>\n",
       "      <th>Weight</th>\n",
       "      <th>Acceleration</th>\n",
       "      <th>Model Year</th>\n",
       "      <th>Europe</th>\n",
       "      <th>Japan</th>\n",
       "      <th>USA</th>\n",
       "    </tr>\n",
       "  </thead>\n",
       "  <tbody>\n",
       "    <tr>\n",
       "      <th>9</th>\n",
       "      <td>8</td>\n",
       "      <td>390.0</td>\n",
       "      <td>190.0</td>\n",
       "      <td>3850.0</td>\n",
       "      <td>8.5</td>\n",
       "      <td>70</td>\n",
       "      <td>0</td>\n",
       "      <td>0</td>\n",
       "      <td>1</td>\n",
       "    </tr>\n",
       "    <tr>\n",
       "      <th>25</th>\n",
       "      <td>8</td>\n",
       "      <td>360.0</td>\n",
       "      <td>215.0</td>\n",
       "      <td>4615.0</td>\n",
       "      <td>14.0</td>\n",
       "      <td>70</td>\n",
       "      <td>0</td>\n",
       "      <td>0</td>\n",
       "      <td>1</td>\n",
       "    </tr>\n",
       "    <tr>\n",
       "      <th>28</th>\n",
       "      <td>8</td>\n",
       "      <td>304.0</td>\n",
       "      <td>193.0</td>\n",
       "      <td>4732.0</td>\n",
       "      <td>18.5</td>\n",
       "      <td>70</td>\n",
       "      <td>0</td>\n",
       "      <td>0</td>\n",
       "      <td>1</td>\n",
       "    </tr>\n",
       "    <tr>\n",
       "      <th>31</th>\n",
       "      <td>4</td>\n",
       "      <td>113.0</td>\n",
       "      <td>95.0</td>\n",
       "      <td>2228.0</td>\n",
       "      <td>14.0</td>\n",
       "      <td>71</td>\n",
       "      <td>0</td>\n",
       "      <td>1</td>\n",
       "      <td>0</td>\n",
       "    </tr>\n",
       "    <tr>\n",
       "      <th>33</th>\n",
       "      <td>6</td>\n",
       "      <td>232.0</td>\n",
       "      <td>100.0</td>\n",
       "      <td>2634.0</td>\n",
       "      <td>13.0</td>\n",
       "      <td>71</td>\n",
       "      <td>0</td>\n",
       "      <td>0</td>\n",
       "      <td>1</td>\n",
       "    </tr>\n",
       "    <tr>\n",
       "      <th>...</th>\n",
       "      <td>...</td>\n",
       "      <td>...</td>\n",
       "      <td>...</td>\n",
       "      <td>...</td>\n",
       "      <td>...</td>\n",
       "      <td>...</td>\n",
       "      <td>...</td>\n",
       "      <td>...</td>\n",
       "      <td>...</td>\n",
       "    </tr>\n",
       "    <tr>\n",
       "      <th>369</th>\n",
       "      <td>4</td>\n",
       "      <td>112.0</td>\n",
       "      <td>88.0</td>\n",
       "      <td>2395.0</td>\n",
       "      <td>18.0</td>\n",
       "      <td>82</td>\n",
       "      <td>0</td>\n",
       "      <td>0</td>\n",
       "      <td>1</td>\n",
       "    </tr>\n",
       "    <tr>\n",
       "      <th>375</th>\n",
       "      <td>4</td>\n",
       "      <td>105.0</td>\n",
       "      <td>74.0</td>\n",
       "      <td>1980.0</td>\n",
       "      <td>15.3</td>\n",
       "      <td>82</td>\n",
       "      <td>1</td>\n",
       "      <td>0</td>\n",
       "      <td>0</td>\n",
       "    </tr>\n",
       "    <tr>\n",
       "      <th>382</th>\n",
       "      <td>4</td>\n",
       "      <td>108.0</td>\n",
       "      <td>70.0</td>\n",
       "      <td>2245.0</td>\n",
       "      <td>16.9</td>\n",
       "      <td>82</td>\n",
       "      <td>0</td>\n",
       "      <td>1</td>\n",
       "      <td>0</td>\n",
       "    </tr>\n",
       "    <tr>\n",
       "      <th>384</th>\n",
       "      <td>4</td>\n",
       "      <td>91.0</td>\n",
       "      <td>67.0</td>\n",
       "      <td>1965.0</td>\n",
       "      <td>15.7</td>\n",
       "      <td>82</td>\n",
       "      <td>0</td>\n",
       "      <td>1</td>\n",
       "      <td>0</td>\n",
       "    </tr>\n",
       "    <tr>\n",
       "      <th>396</th>\n",
       "      <td>4</td>\n",
       "      <td>120.0</td>\n",
       "      <td>79.0</td>\n",
       "      <td>2625.0</td>\n",
       "      <td>18.6</td>\n",
       "      <td>82</td>\n",
       "      <td>0</td>\n",
       "      <td>0</td>\n",
       "      <td>1</td>\n",
       "    </tr>\n",
       "  </tbody>\n",
       "</table>\n",
       "<p>78 rows × 9 columns</p>\n",
       "</div>"
      ],
      "text/plain": [
       "     Cylinders  Displacement  Horsepower  Weight  Acceleration  Model Year  \\\n",
       "9            8         390.0       190.0  3850.0           8.5          70   \n",
       "25           8         360.0       215.0  4615.0          14.0          70   \n",
       "28           8         304.0       193.0  4732.0          18.5          70   \n",
       "31           4         113.0        95.0  2228.0          14.0          71   \n",
       "33           6         232.0       100.0  2634.0          13.0          71   \n",
       "..         ...           ...         ...     ...           ...         ...   \n",
       "369          4         112.0        88.0  2395.0          18.0          82   \n",
       "375          4         105.0        74.0  1980.0          15.3          82   \n",
       "382          4         108.0        70.0  2245.0          16.9          82   \n",
       "384          4          91.0        67.0  1965.0          15.7          82   \n",
       "396          4         120.0        79.0  2625.0          18.6          82   \n",
       "\n",
       "     Europe  Japan  USA  \n",
       "9         0      0    1  \n",
       "25        0      0    1  \n",
       "28        0      0    1  \n",
       "31        0      1    0  \n",
       "33        0      0    1  \n",
       "..      ...    ...  ...  \n",
       "369       0      0    1  \n",
       "375       1      0    0  \n",
       "382       0      1    0  \n",
       "384       0      1    0  \n",
       "396       0      0    1  \n",
       "\n",
       "[78 rows x 9 columns]"
      ]
     },
     "execution_count": 96,
     "metadata": {},
     "output_type": "execute_result"
    }
   ],
   "source": [
    "test_features"
   ]
  },
  {
   "cell_type": "markdown",
   "metadata": {
    "id": "SmjdzxKzEu1-"
   },
   "source": [
    "## Regression with a deep neural network (DNN)"
   ]
  },
  {
   "cell_type": "markdown",
   "metadata": {
    "id": "DT_aHPsrzO1t"
   },
   "source": [
    "In the previous section, you implemented two linear models for single and multiple inputs.\n",
    "\n",
    "Here, you will implement single-input and multiple-input DNN models.\n",
    "\n",
    "The code is basically the same except the model is expanded to include some \"hidden\" non-linear layers. The name \"hidden\" here just means not directly connected to the inputs or outputs."
   ]
  },
  {
   "cell_type": "markdown",
   "metadata": {
    "id": "6SWtkIjhrZwa"
   },
   "source": [
    "These models will contain a few more layers than the linear model:\n",
    "\n",
    "* The normalization layer, as before (with `horsepower_normalizer` for a single-input model and `normalizer` for a multiple-input model).\n",
    "* Two hidden, non-linear, `Dense` layers with the ReLU (`relu`) activation function nonlinearity.\n",
    "* A linear `Dense` single-output layer.\n",
    "\n",
    "Both models will use the same training procedure, so the `compile` method is included in the `build_and_compile_model` function below."
   ]
  },
  {
   "cell_type": "code",
   "execution_count": 97,
   "metadata": {
    "execution": {
     "iopub.execute_input": "2024-03-19T01:58:20.384687Z",
     "iopub.status.busy": "2024-03-19T01:58:20.384012Z",
     "iopub.status.idle": "2024-03-19T01:58:20.389172Z",
     "shell.execute_reply": "2024-03-19T01:58:20.388492Z"
    },
    "id": "c26juK7ZG8j-"
   },
   "outputs": [],
   "source": [
    "def build_and_compile_model(norm):\n",
    "  model = keras.Sequential([\n",
    "      norm,\n",
    "      layers.Dense(64, activation='relu'),\n",
    "      layers.Dense(64, activation='relu'),\n",
    "      layers.Dense(1)\n",
    "  ])\n",
    "\n",
    "  model.compile(loss='mean_absolute_error',\n",
    "                optimizer=tf.keras.optimizers.Adam(0.001))\n",
    "  return model"
   ]
  },
  {
   "cell_type": "markdown",
   "metadata": {
    "id": "6c51caebbc0d"
   },
   "source": [
    "### Regression using a DNN and a single input"
   ]
  },
  {
   "cell_type": "markdown",
   "metadata": {
    "id": "xvu9gtxTZR5V"
   },
   "source": [
    "Create a DNN model with only `'Horsepower'` as input and `horsepower_normalizer` (defined earlier) as the normalization layer:"
   ]
  },
  {
   "cell_type": "code",
   "execution_count": 98,
   "metadata": {
    "execution": {
     "iopub.execute_input": "2024-03-19T01:58:20.392786Z",
     "iopub.status.busy": "2024-03-19T01:58:20.392229Z",
     "iopub.status.idle": "2024-03-19T01:58:20.422889Z",
     "shell.execute_reply": "2024-03-19T01:58:20.422247Z"
    },
    "id": "cGbPb-PHGbhs"
   },
   "outputs": [],
   "source": [
    "dnn_horsepower_model = build_and_compile_model(horsepower_normalizer)"
   ]
  },
  {
   "cell_type": "markdown",
   "metadata": {
    "id": "Sj49Og4YGULr"
   },
   "source": [
    "This model has quite a few more trainable parameters than the linear models:"
   ]
  },
  {
   "cell_type": "code",
   "execution_count": 99,
   "metadata": {
    "execution": {
     "iopub.execute_input": "2024-03-19T01:58:20.426503Z",
     "iopub.status.busy": "2024-03-19T01:58:20.425941Z",
     "iopub.status.idle": "2024-03-19T01:58:20.438249Z",
     "shell.execute_reply": "2024-03-19T01:58:20.437604Z"
    },
    "id": "ReAD0n6MsFK-"
   },
   "outputs": [
    {
     "name": "stdout",
     "output_type": "stream",
     "text": [
      "Model: \"sequential_6\"\n",
      "_________________________________________________________________\n",
      " Layer (type)                Output Shape              Param #   \n",
      "=================================================================\n",
      " normalization_3 (Normaliza  (None, 1)                 3         \n",
      " tion)                                                           \n",
      "                                                                 \n",
      " dense_10 (Dense)            (None, 64)                128       \n",
      "                                                                 \n",
      " dense_11 (Dense)            (None, 64)                4160      \n",
      "                                                                 \n",
      " dense_12 (Dense)            (None, 1)                 65        \n",
      "                                                                 \n",
      "=================================================================\n",
      "Total params: 4356 (17.02 KB)\n",
      "Trainable params: 4353 (17.00 KB)\n",
      "Non-trainable params: 3 (16.00 Byte)\n",
      "_________________________________________________________________\n"
     ]
    }
   ],
   "source": [
    "dnn_horsepower_model.summary()"
   ]
  },
  {
   "cell_type": "markdown",
   "metadata": {
    "id": "0-qWCsh6DlyH"
   },
   "source": [
    "Train the model with Keras `Model.fit`:"
   ]
  },
  {
   "cell_type": "code",
   "execution_count": 100,
   "metadata": {
    "execution": {
     "iopub.execute_input": "2024-03-19T01:58:20.441748Z",
     "iopub.status.busy": "2024-03-19T01:58:20.441296Z",
     "iopub.status.idle": "2024-03-19T01:58:32.969056Z",
     "shell.execute_reply": "2024-03-19T01:58:32.968213Z"
    },
    "id": "sD7qHCmNIOY0"
   },
   "outputs": [
    {
     "name": "stdout",
     "output_type": "stream",
     "text": [
      "CPU times: user 4.68 s, sys: 1.22 s, total: 5.9 s\n",
      "Wall time: 5.11 s\n"
     ]
    }
   ],
   "source": [
    "%%time\n",
    "history = dnn_horsepower_model.fit(\n",
    "    train_features['Horsepower'],\n",
    "    train_labels,\n",
    "    validation_split=0.2,\n",
    "    verbose=0, epochs=100)"
   ]
  },
  {
   "cell_type": "markdown",
   "metadata": {
    "id": "dArGGxHxcKjN"
   },
   "source": [
    "This model does slightly better than the linear single-input `horsepower_model`:"
   ]
  },
  {
   "cell_type": "code",
   "execution_count": 101,
   "metadata": {
    "execution": {
     "iopub.execute_input": "2024-03-19T01:58:32.972774Z",
     "iopub.status.busy": "2024-03-19T01:58:32.972110Z",
     "iopub.status.idle": "2024-03-19T01:58:33.123461Z",
     "shell.execute_reply": "2024-03-19T01:58:33.122865Z"
    },
    "id": "NcF6UWjdCU8T"
   },
   "outputs": [
    {
     "data": {
      "image/png": "[encoded data removed]",
      "text/plain": [
       "<Figure size 640x480 with 1 Axes>"
      ]
     },
     "metadata": {},
     "output_type": "display_data"
    }
   ],
   "source": [
    "plot_loss(history)"
   ]
  },
  {
   "cell_type": "markdown",
   "metadata": {
    "id": "TG1snlpR2QCK"
   },
   "source": [
    "If you plot the predictions as a function of `'Horsepower'`, you should notice how this model takes advantage of the nonlinearity provided by the hidden layers:"
   ]
  },
  {
   "cell_type": "code",
   "execution_count": 102,
   "metadata": {
    "execution": {
     "iopub.execute_input": "2024-03-19T01:58:33.126591Z",
     "iopub.status.busy": "2024-03-19T01:58:33.126363Z",
     "iopub.status.idle": "2024-03-19T01:58:33.543397Z",
     "shell.execute_reply": "2024-03-19T01:58:33.542707Z"
    },
    "id": "hPF53Rem14NS"
   },
   "outputs": [
    {
     "name": "stdout",
     "output_type": "stream",
     "text": [
      "8/8 [==============================] - 0s 3ms/step\n"
     ]
    }
   ],
   "source": [
    "x = tf.linspace(0.0, 250, 251)\n",
    "y = dnn_horsepower_model.predict(x)"
   ]
  },
  {
   "cell_type": "code",
   "execution_count": 103,
   "metadata": {
    "execution": {
     "iopub.execute_input": "2024-03-19T01:58:33.546848Z",
     "iopub.status.busy": "2024-03-19T01:58:33.546587Z",
     "iopub.status.idle": "2024-03-19T01:58:33.717473Z",
     "shell.execute_reply": "2024-03-19T01:58:33.716813Z"
    },
    "id": "rsf9rD8I17Wq"
   },
   "outputs": [
    {
     "data": {
      "image/png": "[encoded data removed]",
      "text/plain": [
       "<Figure size 640x480 with 1 Axes>"
      ]
     },
     "metadata": {},
     "output_type": "display_data"
    }
   ],
   "source": [
    "plot_horsepower(x, y)"
   ]
  },
  {
   "cell_type": "markdown",
   "metadata": {
    "id": "WxCJKIUpe4io"
   },
   "source": [
    "Collect the results on the test set for later:"
   ]
  },
  {
   "cell_type": "code",
   "execution_count": 104,
   "metadata": {
    "execution": {
     "iopub.execute_input": "2024-03-19T01:58:33.721311Z",
     "iopub.status.busy": "2024-03-19T01:58:33.720660Z",
     "iopub.status.idle": "2024-03-19T01:58:33.991644Z",
     "shell.execute_reply": "2024-03-19T01:58:33.990770Z"
    },
    "id": "bJjM0dU52XtN"
   },
   "outputs": [],
   "source": [
    "test_results['dnn_horsepower_model'] = dnn_horsepower_model.evaluate(\n",
    "    test_features['Horsepower'], test_labels,\n",
    "    verbose=0)"
   ]
  },
  {
   "cell_type": "markdown",
   "metadata": {
    "id": "S_2Btebp2e64"
   },
   "source": [
    "### Regression using a DNN and multiple inputs"
   ]
  },
  {
   "cell_type": "markdown",
   "metadata": {
    "id": "aKFtezDldLSf"
   },
   "source": [
    "Repeat the previous process using all the inputs. The model's performance slightly improves on the validation dataset."
   ]
  },
  {
   "cell_type": "code",
   "execution_count": 105,
   "metadata": {
    "execution": {
     "iopub.execute_input": "2024-03-19T01:58:33.996091Z",
     "iopub.status.busy": "2024-03-19T01:58:33.995432Z",
     "iopub.status.idle": "2024-03-19T01:58:34.014792Z",
     "shell.execute_reply": "2024-03-19T01:58:34.014172Z"
    },
    "id": "c0mhscXh2k36"
   },
   "outputs": [
    {
     "name": "stdout",
     "output_type": "stream",
     "text": [
      "Model: \"sequential_7\"\n",
      "_________________________________________________________________\n",
      " Layer (type)                Output Shape              Param #   \n",
      "=================================================================\n",
      " normalization_2 (Normaliza  (None, 9)                 19        \n",
      " tion)                                                           \n",
      "                                                                 \n",
      " dense_13 (Dense)            (None, 64)                640       \n",
      "                                                                 \n",
      " dense_14 (Dense)            (None, 64)                4160      \n",
      "                                                                 \n",
      " dense_15 (Dense)            (None, 1)                 65        \n",
      "                                                                 \n",
      "=================================================================\n",
      "Total params: 4884 (19.08 KB)\n",
      "Trainable params: 4865 (19.00 KB)\n",
      "Non-trainable params: 19 (80.00 Byte)\n",
      "_________________________________________________________________\n"
     ]
    }
   ],
   "source": [
    "dnn_model = build_and_compile_model(normalizer)\n",
    "dnn_model.summary()"
   ]
  },
  {
   "cell_type": "code",
   "execution_count": 106,
   "metadata": {
    "execution": {
     "iopub.execute_input": "2024-03-19T01:58:34.018118Z",
     "iopub.status.busy": "2024-03-19T01:58:34.017493Z",
     "iopub.status.idle": "2024-03-19T01:58:46.310608Z",
     "shell.execute_reply": "2024-03-19T01:58:46.309785Z"
    },
    "id": "CXDENACl2tuW"
   },
   "outputs": [
    {
     "name": "stdout",
     "output_type": "stream",
     "text": [
      "CPU times: user 5.49 s, sys: 1.45 s, total: 6.94 s\n",
      "Wall time: 5.95 s\n"
     ]
    }
   ],
   "source": [
    "%%time\n",
    "history = dnn_model.fit(\n",
    "    train_features,\n",
    "    train_labels,\n",
    "    validation_split=0.2,\n",
    "    verbose=0, epochs=100)"
   ]
  },
  {
   "cell_type": "code",
   "execution_count": 107,
   "metadata": {
    "execution": {
     "iopub.execute_input": "2024-03-19T01:58:46.314285Z",
     "iopub.status.busy": "2024-03-19T01:58:46.313848Z",
     "iopub.status.idle": "2024-03-19T01:58:46.469683Z",
     "shell.execute_reply": "2024-03-19T01:58:46.469004Z"
    },
    "id": "-9Dbj0fX23RQ"
   },
   "outputs": [
    {
     "data": {
      "image/png": "[encoded data removed]",
      "text/plain": [
       "<Figure size 640x480 with 1 Axes>"
      ]
     },
     "metadata": {},
     "output_type": "display_data"
    }
   ],
   "source": [
    "plot_loss(history)"
   ]
  },
  {
   "cell_type": "markdown",
   "metadata": {
    "id": "hWoVYS34fJPZ"
   },
   "source": [
    "Collect the results on the test set:"
   ]
  },
  {
   "cell_type": "code",
   "execution_count": 108,
   "metadata": {
    "execution": {
     "iopub.execute_input": "2024-03-19T01:58:46.473406Z",
     "iopub.status.busy": "2024-03-19T01:58:46.472743Z",
     "iopub.status.idle": "2024-03-19T01:58:46.733909Z",
     "shell.execute_reply": "2024-03-19T01:58:46.733061Z"
    },
    "id": "-bZIa96W3c7K"
   },
   "outputs": [],
   "source": [
    "test_results['dnn_model'] = dnn_model.evaluate(test_features, test_labels, verbose=0)"
   ]
  },
  {
   "cell_type": "markdown",
   "metadata": {
    "id": "uiCucdPLfMkZ"
   },
   "source": [
    "## Performance"
   ]
  },
  {
   "cell_type": "markdown",
   "metadata": {
    "id": "rDf1xebEfWBw"
   },
   "source": [
    "Since all models have been trained, you can review their test set performance:"
   ]
  },
  {
   "cell_type": "code",
   "execution_count": 109,
   "metadata": {
    "execution": {
     "iopub.execute_input": "2024-03-19T01:58:46.738421Z",
     "iopub.status.busy": "2024-03-19T01:58:46.737813Z",
     "iopub.status.idle": "2024-03-19T01:58:46.745882Z",
     "shell.execute_reply": "2024-03-19T01:58:46.745211Z"
    },
    "id": "e5_ooufM5iH2"
   },
   "outputs": [
    {
     "data": {
      "text/html": [
       "<div>\n",
       "<style scoped>\n",
       "    .dataframe tbody tr th:only-of-type {\n",
       "        vertical-align: middle;\n",
       "    }\n",
       "\n",
       "    .dataframe tbody tr th {\n",
       "        vertical-align: top;\n",
       "    }\n",
       "\n",
       "    .dataframe thead th {\n",
       "        text-align: right;\n",
       "    }\n",
       "</style>\n",
       "<table border=\"1\" class=\"dataframe\">\n",
       "  <thead>\n",
       "    <tr style=\"text-align: right;\">\n",
       "      <th></th>\n",
       "      <th>Mean absolute error [MPG]</th>\n",
       "    </tr>\n",
       "  </thead>\n",
       "  <tbody>\n",
       "    <tr>\n",
       "      <th>horsepower_model</th>\n",
       "      <td>3.644901</td>\n",
       "    </tr>\n",
       "    <tr>\n",
       "      <th>linear_model</th>\n",
       "      <td>2.523135</td>\n",
       "    </tr>\n",
       "    <tr>\n",
       "      <th>dnn_horsepower_model</th>\n",
       "      <td>2.871604</td>\n",
       "    </tr>\n",
       "    <tr>\n",
       "      <th>dnn_model</th>\n",
       "      <td>1.703546</td>\n",
       "    </tr>\n",
       "  </tbody>\n",
       "</table>\n",
       "</div>"
      ],
      "text/plain": [
       "                      Mean absolute error [MPG]\n",
       "horsepower_model                       3.644901\n",
       "linear_model                           2.523135\n",
       "dnn_horsepower_model                   2.871604\n",
       "dnn_model                              1.703546"
      ]
     },
     "execution_count": 109,
     "metadata": {},
     "output_type": "execute_result"
    }
   ],
   "source": [
    "pd.DataFrame(test_results, index=['Mean absolute error [MPG]']).T"
   ]
  },
  {
   "cell_type": "markdown",
   "metadata": {
    "id": "DABIVzsCf-QI"
   },
   "source": [
    "These results match the validation error observed during training."
   ]
  },
  {
   "cell_type": "markdown",
   "metadata": {
    "id": "ft603OzXuEZC"
   },
   "source": [
    "### Make predictions\n",
    "\n",
    "You can now make predictions with the `dnn_model` on the test set using Keras `Model.predict` and review the loss:"
   ]
  },
  {
   "cell_type": "code",
   "execution_count": 110,
   "metadata": {
    "execution": {
     "iopub.execute_input": "2024-03-19T01:58:46.749506Z",
     "iopub.status.busy": "2024-03-19T01:58:46.748990Z",
     "iopub.status.idle": "2024-03-19T01:58:47.276499Z",
     "shell.execute_reply": "2024-03-19T01:58:47.275788Z"
    },
    "id": "Xe7RXH3N3CWU"
   },
   "outputs": [
    {
     "name": "stdout",
     "output_type": "stream",
     "text": [
      "3/3 [==============================] - 0s 3ms/step\n"
     ]
    },
    {
     "data": {
      "image/png": "[encoded data removed]",
      "text/plain": [
       "<Figure size 640x480 with 1 Axes>"
      ]
     },
     "metadata": {},
     "output_type": "display_data"
    }
   ],
   "source": [
    "test_predictions = dnn_model.predict(test_features).flatten()\n",
    "\n",
    "a = plt.axes(aspect='equal')\n",
    "plt.scatter(test_labels, test_predictions)\n",
    "plt.xlabel('True Values [MPG]')\n",
    "plt.ylabel('Predictions [MPG]')\n",
    "lims = [0, 50]\n",
    "plt.xlim(lims)\n",
    "plt.ylim(lims)\n",
    "_ = plt.plot(lims, lims)\n"
   ]
  },
  {
   "cell_type": "markdown",
   "metadata": {
    "id": "19wyogbOSU5t"
   },
   "source": [
    "It appears that the model predicts reasonably well.\n",
    "\n",
    "Now, check the error distribution:"
   ]
  },
  {
   "cell_type": "code",
   "execution_count": 111,
   "metadata": {
    "execution": {
     "iopub.execute_input": "2024-03-19T01:58:47.279874Z",
     "iopub.status.busy": "2024-03-19T01:58:47.279583Z",
     "iopub.status.idle": "2024-03-19T01:58:47.431458Z",
     "shell.execute_reply": "2024-03-19T01:58:47.430845Z"
    },
    "id": "f-OHX4DiXd8x"
   },
   "outputs": [
    {
     "data": {
      "image/png": "[encoded data removed]",
      "text/plain": [
       "<Figure size 640x480 with 1 Axes>"
      ]
     },
     "metadata": {},
     "output_type": "display_data"
    }
   ],
   "source": [
    "error = test_predictions - test_labels\n",
    "plt.hist(error, bins=25)\n",
    "plt.xlabel('Prediction Error [MPG]')\n",
    "_ = plt.ylabel('Count')"
   ]
  },
  {
   "cell_type": "markdown",
   "metadata": {
    "id": "KSyaHUfDT-mZ"
   },
   "source": [
    "If you're happy with the model, save it for later use with `Model.save`:"
   ]
  },
  {
   "cell_type": "code",
   "execution_count": 112,
   "metadata": {
    "execution": {
     "iopub.execute_input": "2024-03-19T01:58:47.434941Z",
     "iopub.status.busy": "2024-03-19T01:58:47.434475Z",
     "iopub.status.idle": "2024-03-19T01:58:47.467056Z",
     "shell.execute_reply": "2024-03-19T01:58:47.466440Z"
    },
    "id": "4-WwLlmfT-mb"
   },
   "outputs": [],
   "source": [
    "dnn_model.save('dnn_model.keras')"
   ]
  },
  {
   "cell_type": "markdown",
   "metadata": {
    "id": "Benlnl8UT-me"
   },
   "source": [
    "If you reload the model, it gives identical output:"
   ]
  },
  {
   "cell_type": "code",
   "execution_count": 113,
   "metadata": {
    "execution": {
     "iopub.execute_input": "2024-03-19T01:58:47.470731Z",
     "iopub.status.busy": "2024-03-19T01:58:47.470116Z",
     "iopub.status.idle": "2024-03-19T01:58:47.845279Z",
     "shell.execute_reply": "2024-03-19T01:58:47.844368Z"
    },
    "id": "dyyyj2zVT-mf"
   },
   "outputs": [],
   "source": [
    "reloaded = tf.keras.models.load_model('dnn_model.keras')\n",
    "\n",
    "test_results['reloaded'] = reloaded.evaluate(\n",
    "    test_features, test_labels, verbose=0)"
   ]
  },
  {
   "cell_type": "code",
   "execution_count": 57,
   "metadata": {
    "execution": {
     "iopub.execute_input": "2024-03-19T01:58:47.849631Z",
     "iopub.status.busy": "2024-03-19T01:58:47.849026Z",
     "iopub.status.idle": "2024-03-19T01:58:47.857178Z",
     "shell.execute_reply": "2024-03-19T01:58:47.856427Z"
    },
    "id": "f_GchJ2tg-2o"
   },
   "outputs": [
    {
     "data": {
      "text/html": [
       "<div>\n",
       "<style scoped>\n",
       "    .dataframe tbody tr th:only-of-type {\n",
       "        vertical-align: middle;\n",
       "    }\n",
       "\n",
       "    .dataframe tbody tr th {\n",
       "        vertical-align: top;\n",
       "    }\n",
       "\n",
       "    .dataframe thead th {\n",
       "        text-align: right;\n",
       "    }\n",
       "</style>\n",
       "<table border=\"1\" class=\"dataframe\">\n",
       "  <thead>\n",
       "    <tr style=\"text-align: right;\">\n",
       "      <th></th>\n",
       "      <th>Mean absolute error [MPG]</th>\n",
       "    </tr>\n",
       "  </thead>\n",
       "  <tbody>\n",
       "    <tr>\n",
       "      <th>horsepower_model</th>\n",
       "      <td>3.841782</td>\n",
       "    </tr>\n",
       "    <tr>\n",
       "      <th>linear_model</th>\n",
       "      <td>2.478137</td>\n",
       "    </tr>\n",
       "    <tr>\n",
       "      <th>dnn_horsepower_model</th>\n",
       "      <td>3.058227</td>\n",
       "    </tr>\n",
       "    <tr>\n",
       "      <th>dnn_model</th>\n",
       "      <td>1.748969</td>\n",
       "    </tr>\n",
       "    <tr>\n",
       "      <th>reloaded</th>\n",
       "      <td>1.748969</td>\n",
       "    </tr>\n",
       "  </tbody>\n",
       "</table>\n",
       "</div>"
      ],
      "text/plain": [
       "                      Mean absolute error [MPG]\n",
       "horsepower_model                       3.841782\n",
       "linear_model                           2.478137\n",
       "dnn_horsepower_model                   3.058227\n",
       "dnn_model                              1.748969\n",
       "reloaded                               1.748969"
      ]
     },
     "execution_count": 57,
     "metadata": {},
     "output_type": "execute_result"
    }
   ],
   "source": [
    "pd.DataFrame(test_results, index=['Mean absolute error [MPG]']).T"
   ]
  },
  {
   "cell_type": "markdown",
   "metadata": {
    "id": "vgGQuV-yqYZH"
   },
   "source": [
    "## Conclusion\n",
    "\n",
    "This notebook introduced a few techniques to handle a regression problem. Here are a few more tips that may help:\n",
    "\n",
    "- Mean squared error (MSE) (`tf.keras.losses.MeanSquaredError`) and mean absolute error (MAE) (`tf.keras.losses.MeanAbsoluteError`) are common loss functions used for regression problems. MAE is less sensitive to outliers. Different loss functions are used for classification problems.\n",
    "- Similarly, evaluation metrics used for regression differ from classification.\n",
    "- When numeric input data features have values with different ranges, each feature should be scaled independently to the same range.\n",
    "- Overfitting is a common problem for DNN models, though it wasn't a problem for this tutorial. Visit the [Overfit and underfit](overfit_and_underfit.ipynb) tutorial for more help with this."
   ]
  }
 ],
 "metadata": {
  "colab": {
   "collapsed_sections": [],
   "name": "regression.ipynb",
   "toc_visible": true
  },
  "kernelspec": {
   "display_name": "Python 3",
   "name": "python3"
  },
  "language_info": {
   "codemirror_mode": {
    "name": "ipython",
    "version": 3
   },
   "file_extension": ".py",
   "mimetype": "text/x-python",
   "name": "python",
   "nbconvert_exporter": "python",
   "pygments_lexer": "ipython3",
   "version": "3.10.14"
  }
 },
 "nbformat": 4,
 "nbformat_minor": 0
}
